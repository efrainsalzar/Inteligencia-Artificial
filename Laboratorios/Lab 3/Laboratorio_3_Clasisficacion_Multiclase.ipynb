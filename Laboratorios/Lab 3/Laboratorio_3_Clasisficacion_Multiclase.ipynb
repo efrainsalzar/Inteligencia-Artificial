{
  "nbformat": 4,
  "nbformat_minor": 0,
  "metadata": {
    "colab": {
      "provenance": []
    },
    "kernelspec": {
      "name": "python3",
      "display_name": "Python 3"
    },
    "language_info": {
      "name": "python"
    }
  },
  "cells": [
    {
      "cell_type": "markdown",
      "source": [
        "# pump_sensor_data\n",
        "El objetivo del dataset es analizar los datos de los sensores para identificar patrones o señales que puedan estar asociados con los fallos del sistema. que involucra el seguimiento de varios sensores a lo largo del tiempo para ver si hay algún cambio o comportamiento anormal antes de que ocurran los fallos."
      ],
      "metadata": {
        "id": "dXC7-jeqt7OL"
      }
    },
    {
      "cell_type": "markdown",
      "source": [
        "Libreria que se utilizan"
      ],
      "metadata": {
        "id": "7UJuQKlpuypi"
      }
    },
    {
      "cell_type": "code",
      "execution_count": 1,
      "metadata": {
        "id": "dwGkiGYUCwmI"
      },
      "outputs": [],
      "source": [
        "# utilizado para la manipulación de directorios y rutas\n",
        "import os\n",
        "# Cálculo científico y vectorial para python\n",
        "import numpy as np\n",
        "import pandas as pd\n",
        "# Libreria para graficos\n",
        "from matplotlib import pyplot\n",
        "# Modulo de optimizacion en scipy\n",
        "from scipy import optimize\n",
        "# le dice a matplotlib que incruste gráficos en el cuaderno\n",
        "%matplotlib inline\n",
        "\n",
        "# para graficos\n",
        "import seaborn as sns"
      ]
    },
    {
      "cell_type": "markdown",
      "source": [
        "Primero se carga el dataset en una variable"
      ],
      "metadata": {
        "id": "omKpbVfxulwS"
      }
    },
    {
      "cell_type": "code",
      "source": [
        "data = pd.read_csv('/content/drive/MyDrive/Inteligecia Artificial l/Machine learning/praticas/sensor.csv')\n",
        "# echamos un vistazo al dataset\n",
        "data.head()"
      ],
      "metadata": {
        "colab": {
          "base_uri": "https://localhost:8080/",
          "height": 446
        },
        "id": "SyXgfgHHDkyx",
        "outputId": "5d7db773-4f87-4251-ee79-232008769471"
      },
      "execution_count": 2,
      "outputs": [
        {
          "output_type": "execute_result",
          "data": {
            "text/plain": [
              "   Unnamed: 0            timestamp  sensor_00  sensor_01  sensor_02  \\\n",
              "0           0  2018-04-01 00:00:00   2.465394   47.09201    53.2118   \n",
              "1           1  2018-04-01 00:01:00   2.465394   47.09201    53.2118   \n",
              "2           2  2018-04-01 00:02:00   2.444734   47.35243    53.2118   \n",
              "3           3  2018-04-01 00:03:00   2.460474   47.09201    53.1684   \n",
              "4           4  2018-04-01 00:04:00   2.445718   47.13541    53.2118   \n",
              "\n",
              "   sensor_03  sensor_04  sensor_05  sensor_06  sensor_07  ...  sensor_43  \\\n",
              "0  46.310760   634.3750   76.45975   13.41146   16.13136  ...   41.92708   \n",
              "1  46.310760   634.3750   76.45975   13.41146   16.13136  ...   41.92708   \n",
              "2  46.397570   638.8889   73.54598   13.32465   16.03733  ...   41.66666   \n",
              "3  46.397568   628.1250   76.98898   13.31742   16.24711  ...   40.88541   \n",
              "4  46.397568   636.4583   76.58897   13.35359   16.21094  ...   41.40625   \n",
              "\n",
              "   sensor_44  sensor_45  sensor_46  sensor_47  sensor_48  sensor_49  \\\n",
              "0  39.641200   65.68287   50.92593  38.194440   157.9861   67.70834   \n",
              "1  39.641200   65.68287   50.92593  38.194440   157.9861   67.70834   \n",
              "2  39.351852   65.39352   51.21528  38.194443   155.9606   67.12963   \n",
              "3  39.062500   64.81481   51.21528  38.194440   155.9606   66.84028   \n",
              "4  38.773150   65.10416   51.79398  38.773150   158.2755   66.55093   \n",
              "\n",
              "   sensor_50  sensor_51  machine_status  \n",
              "0   243.0556   201.3889          NORMAL  \n",
              "1   243.0556   201.3889          NORMAL  \n",
              "2   241.3194   203.7037          NORMAL  \n",
              "3   240.4514   203.1250          NORMAL  \n",
              "4   242.1875   201.3889          NORMAL  \n",
              "\n",
              "[5 rows x 55 columns]"
            ],
            "text/html": [
              "\n",
              "  <div id=\"df-46c21cec-b36e-42e6-8822-8ad53f41334f\" class=\"colab-df-container\">\n",
              "    <div>\n",
              "<style scoped>\n",
              "    .dataframe tbody tr th:only-of-type {\n",
              "        vertical-align: middle;\n",
              "    }\n",
              "\n",
              "    .dataframe tbody tr th {\n",
              "        vertical-align: top;\n",
              "    }\n",
              "\n",
              "    .dataframe thead th {\n",
              "        text-align: right;\n",
              "    }\n",
              "</style>\n",
              "<table border=\"1\" class=\"dataframe\">\n",
              "  <thead>\n",
              "    <tr style=\"text-align: right;\">\n",
              "      <th></th>\n",
              "      <th>Unnamed: 0</th>\n",
              "      <th>timestamp</th>\n",
              "      <th>sensor_00</th>\n",
              "      <th>sensor_01</th>\n",
              "      <th>sensor_02</th>\n",
              "      <th>sensor_03</th>\n",
              "      <th>sensor_04</th>\n",
              "      <th>sensor_05</th>\n",
              "      <th>sensor_06</th>\n",
              "      <th>sensor_07</th>\n",
              "      <th>...</th>\n",
              "      <th>sensor_43</th>\n",
              "      <th>sensor_44</th>\n",
              "      <th>sensor_45</th>\n",
              "      <th>sensor_46</th>\n",
              "      <th>sensor_47</th>\n",
              "      <th>sensor_48</th>\n",
              "      <th>sensor_49</th>\n",
              "      <th>sensor_50</th>\n",
              "      <th>sensor_51</th>\n",
              "      <th>machine_status</th>\n",
              "    </tr>\n",
              "  </thead>\n",
              "  <tbody>\n",
              "    <tr>\n",
              "      <th>0</th>\n",
              "      <td>0</td>\n",
              "      <td>2018-04-01 00:00:00</td>\n",
              "      <td>2.465394</td>\n",
              "      <td>47.09201</td>\n",
              "      <td>53.2118</td>\n",
              "      <td>46.310760</td>\n",
              "      <td>634.3750</td>\n",
              "      <td>76.45975</td>\n",
              "      <td>13.41146</td>\n",
              "      <td>16.13136</td>\n",
              "      <td>...</td>\n",
              "      <td>41.92708</td>\n",
              "      <td>39.641200</td>\n",
              "      <td>65.68287</td>\n",
              "      <td>50.92593</td>\n",
              "      <td>38.194440</td>\n",
              "      <td>157.9861</td>\n",
              "      <td>67.70834</td>\n",
              "      <td>243.0556</td>\n",
              "      <td>201.3889</td>\n",
              "      <td>NORMAL</td>\n",
              "    </tr>\n",
              "    <tr>\n",
              "      <th>1</th>\n",
              "      <td>1</td>\n",
              "      <td>2018-04-01 00:01:00</td>\n",
              "      <td>2.465394</td>\n",
              "      <td>47.09201</td>\n",
              "      <td>53.2118</td>\n",
              "      <td>46.310760</td>\n",
              "      <td>634.3750</td>\n",
              "      <td>76.45975</td>\n",
              "      <td>13.41146</td>\n",
              "      <td>16.13136</td>\n",
              "      <td>...</td>\n",
              "      <td>41.92708</td>\n",
              "      <td>39.641200</td>\n",
              "      <td>65.68287</td>\n",
              "      <td>50.92593</td>\n",
              "      <td>38.194440</td>\n",
              "      <td>157.9861</td>\n",
              "      <td>67.70834</td>\n",
              "      <td>243.0556</td>\n",
              "      <td>201.3889</td>\n",
              "      <td>NORMAL</td>\n",
              "    </tr>\n",
              "    <tr>\n",
              "      <th>2</th>\n",
              "      <td>2</td>\n",
              "      <td>2018-04-01 00:02:00</td>\n",
              "      <td>2.444734</td>\n",
              "      <td>47.35243</td>\n",
              "      <td>53.2118</td>\n",
              "      <td>46.397570</td>\n",
              "      <td>638.8889</td>\n",
              "      <td>73.54598</td>\n",
              "      <td>13.32465</td>\n",
              "      <td>16.03733</td>\n",
              "      <td>...</td>\n",
              "      <td>41.66666</td>\n",
              "      <td>39.351852</td>\n",
              "      <td>65.39352</td>\n",
              "      <td>51.21528</td>\n",
              "      <td>38.194443</td>\n",
              "      <td>155.9606</td>\n",
              "      <td>67.12963</td>\n",
              "      <td>241.3194</td>\n",
              "      <td>203.7037</td>\n",
              "      <td>NORMAL</td>\n",
              "    </tr>\n",
              "    <tr>\n",
              "      <th>3</th>\n",
              "      <td>3</td>\n",
              "      <td>2018-04-01 00:03:00</td>\n",
              "      <td>2.460474</td>\n",
              "      <td>47.09201</td>\n",
              "      <td>53.1684</td>\n",
              "      <td>46.397568</td>\n",
              "      <td>628.1250</td>\n",
              "      <td>76.98898</td>\n",
              "      <td>13.31742</td>\n",
              "      <td>16.24711</td>\n",
              "      <td>...</td>\n",
              "      <td>40.88541</td>\n",
              "      <td>39.062500</td>\n",
              "      <td>64.81481</td>\n",
              "      <td>51.21528</td>\n",
              "      <td>38.194440</td>\n",
              "      <td>155.9606</td>\n",
              "      <td>66.84028</td>\n",
              "      <td>240.4514</td>\n",
              "      <td>203.1250</td>\n",
              "      <td>NORMAL</td>\n",
              "    </tr>\n",
              "    <tr>\n",
              "      <th>4</th>\n",
              "      <td>4</td>\n",
              "      <td>2018-04-01 00:04:00</td>\n",
              "      <td>2.445718</td>\n",
              "      <td>47.13541</td>\n",
              "      <td>53.2118</td>\n",
              "      <td>46.397568</td>\n",
              "      <td>636.4583</td>\n",
              "      <td>76.58897</td>\n",
              "      <td>13.35359</td>\n",
              "      <td>16.21094</td>\n",
              "      <td>...</td>\n",
              "      <td>41.40625</td>\n",
              "      <td>38.773150</td>\n",
              "      <td>65.10416</td>\n",
              "      <td>51.79398</td>\n",
              "      <td>38.773150</td>\n",
              "      <td>158.2755</td>\n",
              "      <td>66.55093</td>\n",
              "      <td>242.1875</td>\n",
              "      <td>201.3889</td>\n",
              "      <td>NORMAL</td>\n",
              "    </tr>\n",
              "  </tbody>\n",
              "</table>\n",
              "<p>5 rows × 55 columns</p>\n",
              "</div>\n",
              "    <div class=\"colab-df-buttons\">\n",
              "\n",
              "  <div class=\"colab-df-container\">\n",
              "    <button class=\"colab-df-convert\" onclick=\"convertToInteractive('df-46c21cec-b36e-42e6-8822-8ad53f41334f')\"\n",
              "            title=\"Convert this dataframe to an interactive table.\"\n",
              "            style=\"display:none;\">\n",
              "\n",
              "  <svg xmlns=\"http://www.w3.org/2000/svg\" height=\"24px\" viewBox=\"0 -960 960 960\">\n",
              "    <path d=\"M120-120v-720h720v720H120Zm60-500h600v-160H180v160Zm220 220h160v-160H400v160Zm0 220h160v-160H400v160ZM180-400h160v-160H180v160Zm440 0h160v-160H620v160ZM180-180h160v-160H180v160Zm440 0h160v-160H620v160Z\"/>\n",
              "  </svg>\n",
              "    </button>\n",
              "\n",
              "  <style>\n",
              "    .colab-df-container {\n",
              "      display:flex;\n",
              "      gap: 12px;\n",
              "    }\n",
              "\n",
              "    .colab-df-convert {\n",
              "      background-color: #E8F0FE;\n",
              "      border: none;\n",
              "      border-radius: 50%;\n",
              "      cursor: pointer;\n",
              "      display: none;\n",
              "      fill: #1967D2;\n",
              "      height: 32px;\n",
              "      padding: 0 0 0 0;\n",
              "      width: 32px;\n",
              "    }\n",
              "\n",
              "    .colab-df-convert:hover {\n",
              "      background-color: #E2EBFA;\n",
              "      box-shadow: 0px 1px 2px rgba(60, 64, 67, 0.3), 0px 1px 3px 1px rgba(60, 64, 67, 0.15);\n",
              "      fill: #174EA6;\n",
              "    }\n",
              "\n",
              "    .colab-df-buttons div {\n",
              "      margin-bottom: 4px;\n",
              "    }\n",
              "\n",
              "    [theme=dark] .colab-df-convert {\n",
              "      background-color: #3B4455;\n",
              "      fill: #D2E3FC;\n",
              "    }\n",
              "\n",
              "    [theme=dark] .colab-df-convert:hover {\n",
              "      background-color: #434B5C;\n",
              "      box-shadow: 0px 1px 3px 1px rgba(0, 0, 0, 0.15);\n",
              "      filter: drop-shadow(0px 1px 2px rgba(0, 0, 0, 0.3));\n",
              "      fill: #FFFFFF;\n",
              "    }\n",
              "  </style>\n",
              "\n",
              "    <script>\n",
              "      const buttonEl =\n",
              "        document.querySelector('#df-46c21cec-b36e-42e6-8822-8ad53f41334f button.colab-df-convert');\n",
              "      buttonEl.style.display =\n",
              "        google.colab.kernel.accessAllowed ? 'block' : 'none';\n",
              "\n",
              "      async function convertToInteractive(key) {\n",
              "        const element = document.querySelector('#df-46c21cec-b36e-42e6-8822-8ad53f41334f');\n",
              "        const dataTable =\n",
              "          await google.colab.kernel.invokeFunction('convertToInteractive',\n",
              "                                                    [key], {});\n",
              "        if (!dataTable) return;\n",
              "\n",
              "        const docLinkHtml = 'Like what you see? Visit the ' +\n",
              "          '<a target=\"_blank\" href=https://colab.research.google.com/notebooks/data_table.ipynb>data table notebook</a>'\n",
              "          + ' to learn more about interactive tables.';\n",
              "        element.innerHTML = '';\n",
              "        dataTable['output_type'] = 'display_data';\n",
              "        await google.colab.output.renderOutput(dataTable, element);\n",
              "        const docLink = document.createElement('div');\n",
              "        docLink.innerHTML = docLinkHtml;\n",
              "        element.appendChild(docLink);\n",
              "      }\n",
              "    </script>\n",
              "  </div>\n",
              "\n",
              "\n",
              "<div id=\"df-da7dd134-e9e1-4b26-874d-0bb4b4565764\">\n",
              "  <button class=\"colab-df-quickchart\" onclick=\"quickchart('df-da7dd134-e9e1-4b26-874d-0bb4b4565764')\"\n",
              "            title=\"Suggest charts\"\n",
              "            style=\"display:none;\">\n",
              "\n",
              "<svg xmlns=\"http://www.w3.org/2000/svg\" height=\"24px\"viewBox=\"0 0 24 24\"\n",
              "     width=\"24px\">\n",
              "    <g>\n",
              "        <path d=\"M19 3H5c-1.1 0-2 .9-2 2v14c0 1.1.9 2 2 2h14c1.1 0 2-.9 2-2V5c0-1.1-.9-2-2-2zM9 17H7v-7h2v7zm4 0h-2V7h2v10zm4 0h-2v-4h2v4z\"/>\n",
              "    </g>\n",
              "</svg>\n",
              "  </button>\n",
              "\n",
              "<style>\n",
              "  .colab-df-quickchart {\n",
              "      --bg-color: #E8F0FE;\n",
              "      --fill-color: #1967D2;\n",
              "      --hover-bg-color: #E2EBFA;\n",
              "      --hover-fill-color: #174EA6;\n",
              "      --disabled-fill-color: #AAA;\n",
              "      --disabled-bg-color: #DDD;\n",
              "  }\n",
              "\n",
              "  [theme=dark] .colab-df-quickchart {\n",
              "      --bg-color: #3B4455;\n",
              "      --fill-color: #D2E3FC;\n",
              "      --hover-bg-color: #434B5C;\n",
              "      --hover-fill-color: #FFFFFF;\n",
              "      --disabled-bg-color: #3B4455;\n",
              "      --disabled-fill-color: #666;\n",
              "  }\n",
              "\n",
              "  .colab-df-quickchart {\n",
              "    background-color: var(--bg-color);\n",
              "    border: none;\n",
              "    border-radius: 50%;\n",
              "    cursor: pointer;\n",
              "    display: none;\n",
              "    fill: var(--fill-color);\n",
              "    height: 32px;\n",
              "    padding: 0;\n",
              "    width: 32px;\n",
              "  }\n",
              "\n",
              "  .colab-df-quickchart:hover {\n",
              "    background-color: var(--hover-bg-color);\n",
              "    box-shadow: 0 1px 2px rgba(60, 64, 67, 0.3), 0 1px 3px 1px rgba(60, 64, 67, 0.15);\n",
              "    fill: var(--button-hover-fill-color);\n",
              "  }\n",
              "\n",
              "  .colab-df-quickchart-complete:disabled,\n",
              "  .colab-df-quickchart-complete:disabled:hover {\n",
              "    background-color: var(--disabled-bg-color);\n",
              "    fill: var(--disabled-fill-color);\n",
              "    box-shadow: none;\n",
              "  }\n",
              "\n",
              "  .colab-df-spinner {\n",
              "    border: 2px solid var(--fill-color);\n",
              "    border-color: transparent;\n",
              "    border-bottom-color: var(--fill-color);\n",
              "    animation:\n",
              "      spin 1s steps(1) infinite;\n",
              "  }\n",
              "\n",
              "  @keyframes spin {\n",
              "    0% {\n",
              "      border-color: transparent;\n",
              "      border-bottom-color: var(--fill-color);\n",
              "      border-left-color: var(--fill-color);\n",
              "    }\n",
              "    20% {\n",
              "      border-color: transparent;\n",
              "      border-left-color: var(--fill-color);\n",
              "      border-top-color: var(--fill-color);\n",
              "    }\n",
              "    30% {\n",
              "      border-color: transparent;\n",
              "      border-left-color: var(--fill-color);\n",
              "      border-top-color: var(--fill-color);\n",
              "      border-right-color: var(--fill-color);\n",
              "    }\n",
              "    40% {\n",
              "      border-color: transparent;\n",
              "      border-right-color: var(--fill-color);\n",
              "      border-top-color: var(--fill-color);\n",
              "    }\n",
              "    60% {\n",
              "      border-color: transparent;\n",
              "      border-right-color: var(--fill-color);\n",
              "    }\n",
              "    80% {\n",
              "      border-color: transparent;\n",
              "      border-right-color: var(--fill-color);\n",
              "      border-bottom-color: var(--fill-color);\n",
              "    }\n",
              "    90% {\n",
              "      border-color: transparent;\n",
              "      border-bottom-color: var(--fill-color);\n",
              "    }\n",
              "  }\n",
              "</style>\n",
              "\n",
              "  <script>\n",
              "    async function quickchart(key) {\n",
              "      const quickchartButtonEl =\n",
              "        document.querySelector('#' + key + ' button');\n",
              "      quickchartButtonEl.disabled = true;  // To prevent multiple clicks.\n",
              "      quickchartButtonEl.classList.add('colab-df-spinner');\n",
              "      try {\n",
              "        const charts = await google.colab.kernel.invokeFunction(\n",
              "            'suggestCharts', [key], {});\n",
              "      } catch (error) {\n",
              "        console.error('Error during call to suggestCharts:', error);\n",
              "      }\n",
              "      quickchartButtonEl.classList.remove('colab-df-spinner');\n",
              "      quickchartButtonEl.classList.add('colab-df-quickchart-complete');\n",
              "    }\n",
              "    (() => {\n",
              "      let quickchartButtonEl =\n",
              "        document.querySelector('#df-da7dd134-e9e1-4b26-874d-0bb4b4565764 button');\n",
              "      quickchartButtonEl.style.display =\n",
              "        google.colab.kernel.accessAllowed ? 'block' : 'none';\n",
              "    })();\n",
              "  </script>\n",
              "</div>\n",
              "\n",
              "    </div>\n",
              "  </div>\n"
            ],
            "application/vnd.google.colaboratory.intrinsic+json": {
              "type": "dataframe",
              "variable_name": "data"
            }
          },
          "metadata": {},
          "execution_count": 2
        }
      ]
    },
    {
      "cell_type": "markdown",
      "source": [
        "Debemos ver tambien los detalles del dataset"
      ],
      "metadata": {
        "id": "Et1Kv2rgvFYB"
      }
    },
    {
      "cell_type": "code",
      "source": [
        "print(data.info())"
      ],
      "metadata": {
        "colab": {
          "base_uri": "https://localhost:8080/"
        },
        "id": "wEujtmjzDmEh",
        "outputId": "54643800-efd6-4d83-e7b5-7b0937ac826f"
      },
      "execution_count": 3,
      "outputs": [
        {
          "output_type": "stream",
          "name": "stdout",
          "text": [
            "<class 'pandas.core.frame.DataFrame'>\n",
            "RangeIndex: 220320 entries, 0 to 220319\n",
            "Data columns (total 55 columns):\n",
            " #   Column          Non-Null Count   Dtype  \n",
            "---  ------          --------------   -----  \n",
            " 0   Unnamed: 0      220320 non-null  int64  \n",
            " 1   timestamp       220320 non-null  object \n",
            " 2   sensor_00       210112 non-null  float64\n",
            " 3   sensor_01       219951 non-null  float64\n",
            " 4   sensor_02       220301 non-null  float64\n",
            " 5   sensor_03       220301 non-null  float64\n",
            " 6   sensor_04       220301 non-null  float64\n",
            " 7   sensor_05       220301 non-null  float64\n",
            " 8   sensor_06       215522 non-null  float64\n",
            " 9   sensor_07       214869 non-null  float64\n",
            " 10  sensor_08       215213 non-null  float64\n",
            " 11  sensor_09       215725 non-null  float64\n",
            " 12  sensor_10       220301 non-null  float64\n",
            " 13  sensor_11       220301 non-null  float64\n",
            " 14  sensor_12       220301 non-null  float64\n",
            " 15  sensor_13       220301 non-null  float64\n",
            " 16  sensor_14       220299 non-null  float64\n",
            " 17  sensor_15       0 non-null       float64\n",
            " 18  sensor_16       220289 non-null  float64\n",
            " 19  sensor_17       220274 non-null  float64\n",
            " 20  sensor_18       220274 non-null  float64\n",
            " 21  sensor_19       220304 non-null  float64\n",
            " 22  sensor_20       220304 non-null  float64\n",
            " 23  sensor_21       220304 non-null  float64\n",
            " 24  sensor_22       220279 non-null  float64\n",
            " 25  sensor_23       220304 non-null  float64\n",
            " 26  sensor_24       220304 non-null  float64\n",
            " 27  sensor_25       220284 non-null  float64\n",
            " 28  sensor_26       220300 non-null  float64\n",
            " 29  sensor_27       220304 non-null  float64\n",
            " 30  sensor_28       220304 non-null  float64\n",
            " 31  sensor_29       220248 non-null  float64\n",
            " 32  sensor_30       220059 non-null  float64\n",
            " 33  sensor_31       220304 non-null  float64\n",
            " 34  sensor_32       220252 non-null  float64\n",
            " 35  sensor_33       220304 non-null  float64\n",
            " 36  sensor_34       220304 non-null  float64\n",
            " 37  sensor_35       220304 non-null  float64\n",
            " 38  sensor_36       220304 non-null  float64\n",
            " 39  sensor_37       220304 non-null  float64\n",
            " 40  sensor_38       220293 non-null  float64\n",
            " 41  sensor_39       220293 non-null  float64\n",
            " 42  sensor_40       220293 non-null  float64\n",
            " 43  sensor_41       220293 non-null  float64\n",
            " 44  sensor_42       220293 non-null  float64\n",
            " 45  sensor_43       220293 non-null  float64\n",
            " 46  sensor_44       220293 non-null  float64\n",
            " 47  sensor_45       220293 non-null  float64\n",
            " 48  sensor_46       220293 non-null  float64\n",
            " 49  sensor_47       220293 non-null  float64\n",
            " 50  sensor_48       220293 non-null  float64\n",
            " 51  sensor_49       220293 non-null  float64\n",
            " 52  sensor_50       143303 non-null  float64\n",
            " 53  sensor_51       204937 non-null  float64\n",
            " 54  machine_status  220320 non-null  object \n",
            "dtypes: float64(52), int64(1), object(2)\n",
            "memory usage: 92.5+ MB\n",
            "None\n"
          ]
        }
      ]
    },
    {
      "cell_type": "markdown",
      "source": [
        "Necesitamos convertir los datos a enteros o flotantes(reales) para trabajar con ellos y eliminar los datos no importantes(como el indice**\"Unnamed: 0\"**) o completos vacios(como la columna **\"sensor_15\"**)"
      ],
      "metadata": {
        "id": "QyAne3ravNJy"
      }
    },
    {
      "cell_type": "code",
      "source": [
        "# Convertir la columna de timestamp a objetos de fecha\n",
        "data['timestamp'] = pd.to_datetime(data['timestamp'])\n",
        "# Convertir los valores de timestamp a números enteros\n",
        "data['timestamp'] = data['timestamp'].astype(int)\n",
        "\n",
        "\n",
        "# revisamos\n",
        "print(data.head())\n",
        "print('_'*90)\n",
        "data.info()"
      ],
      "metadata": {
        "colab": {
          "base_uri": "https://localhost:8080/"
        },
        "id": "YvM9FEYIEJjv",
        "outputId": "a6412a12-e8fa-4d64-c892-f551d7b18da5"
      },
      "execution_count": 4,
      "outputs": [
        {
          "output_type": "stream",
          "name": "stdout",
          "text": [
            "   Unnamed: 0            timestamp  sensor_00  sensor_01  sensor_02  \\\n",
            "0           0  1522540800000000000   2.465394   47.09201    53.2118   \n",
            "1           1  1522540860000000000   2.465394   47.09201    53.2118   \n",
            "2           2  1522540920000000000   2.444734   47.35243    53.2118   \n",
            "3           3  1522540980000000000   2.460474   47.09201    53.1684   \n",
            "4           4  1522541040000000000   2.445718   47.13541    53.2118   \n",
            "\n",
            "   sensor_03  sensor_04  sensor_05  sensor_06  sensor_07  ...  sensor_43  \\\n",
            "0  46.310760   634.3750   76.45975   13.41146   16.13136  ...   41.92708   \n",
            "1  46.310760   634.3750   76.45975   13.41146   16.13136  ...   41.92708   \n",
            "2  46.397570   638.8889   73.54598   13.32465   16.03733  ...   41.66666   \n",
            "3  46.397568   628.1250   76.98898   13.31742   16.24711  ...   40.88541   \n",
            "4  46.397568   636.4583   76.58897   13.35359   16.21094  ...   41.40625   \n",
            "\n",
            "   sensor_44  sensor_45  sensor_46  sensor_47  sensor_48  sensor_49  \\\n",
            "0  39.641200   65.68287   50.92593  38.194440   157.9861   67.70834   \n",
            "1  39.641200   65.68287   50.92593  38.194440   157.9861   67.70834   \n",
            "2  39.351852   65.39352   51.21528  38.194443   155.9606   67.12963   \n",
            "3  39.062500   64.81481   51.21528  38.194440   155.9606   66.84028   \n",
            "4  38.773150   65.10416   51.79398  38.773150   158.2755   66.55093   \n",
            "\n",
            "   sensor_50  sensor_51  machine_status  \n",
            "0   243.0556   201.3889          NORMAL  \n",
            "1   243.0556   201.3889          NORMAL  \n",
            "2   241.3194   203.7037          NORMAL  \n",
            "3   240.4514   203.1250          NORMAL  \n",
            "4   242.1875   201.3889          NORMAL  \n",
            "\n",
            "[5 rows x 55 columns]\n",
            "__________________________________________________________________________________________\n",
            "<class 'pandas.core.frame.DataFrame'>\n",
            "RangeIndex: 220320 entries, 0 to 220319\n",
            "Data columns (total 55 columns):\n",
            " #   Column          Non-Null Count   Dtype  \n",
            "---  ------          --------------   -----  \n",
            " 0   Unnamed: 0      220320 non-null  int64  \n",
            " 1   timestamp       220320 non-null  int64  \n",
            " 2   sensor_00       210112 non-null  float64\n",
            " 3   sensor_01       219951 non-null  float64\n",
            " 4   sensor_02       220301 non-null  float64\n",
            " 5   sensor_03       220301 non-null  float64\n",
            " 6   sensor_04       220301 non-null  float64\n",
            " 7   sensor_05       220301 non-null  float64\n",
            " 8   sensor_06       215522 non-null  float64\n",
            " 9   sensor_07       214869 non-null  float64\n",
            " 10  sensor_08       215213 non-null  float64\n",
            " 11  sensor_09       215725 non-null  float64\n",
            " 12  sensor_10       220301 non-null  float64\n",
            " 13  sensor_11       220301 non-null  float64\n",
            " 14  sensor_12       220301 non-null  float64\n",
            " 15  sensor_13       220301 non-null  float64\n",
            " 16  sensor_14       220299 non-null  float64\n",
            " 17  sensor_15       0 non-null       float64\n",
            " 18  sensor_16       220289 non-null  float64\n",
            " 19  sensor_17       220274 non-null  float64\n",
            " 20  sensor_18       220274 non-null  float64\n",
            " 21  sensor_19       220304 non-null  float64\n",
            " 22  sensor_20       220304 non-null  float64\n",
            " 23  sensor_21       220304 non-null  float64\n",
            " 24  sensor_22       220279 non-null  float64\n",
            " 25  sensor_23       220304 non-null  float64\n",
            " 26  sensor_24       220304 non-null  float64\n",
            " 27  sensor_25       220284 non-null  float64\n",
            " 28  sensor_26       220300 non-null  float64\n",
            " 29  sensor_27       220304 non-null  float64\n",
            " 30  sensor_28       220304 non-null  float64\n",
            " 31  sensor_29       220248 non-null  float64\n",
            " 32  sensor_30       220059 non-null  float64\n",
            " 33  sensor_31       220304 non-null  float64\n",
            " 34  sensor_32       220252 non-null  float64\n",
            " 35  sensor_33       220304 non-null  float64\n",
            " 36  sensor_34       220304 non-null  float64\n",
            " 37  sensor_35       220304 non-null  float64\n",
            " 38  sensor_36       220304 non-null  float64\n",
            " 39  sensor_37       220304 non-null  float64\n",
            " 40  sensor_38       220293 non-null  float64\n",
            " 41  sensor_39       220293 non-null  float64\n",
            " 42  sensor_40       220293 non-null  float64\n",
            " 43  sensor_41       220293 non-null  float64\n",
            " 44  sensor_42       220293 non-null  float64\n",
            " 45  sensor_43       220293 non-null  float64\n",
            " 46  sensor_44       220293 non-null  float64\n",
            " 47  sensor_45       220293 non-null  float64\n",
            " 48  sensor_46       220293 non-null  float64\n",
            " 49  sensor_47       220293 non-null  float64\n",
            " 50  sensor_48       220293 non-null  float64\n",
            " 51  sensor_49       220293 non-null  float64\n",
            " 52  sensor_50       143303 non-null  float64\n",
            " 53  sensor_51       204937 non-null  float64\n",
            " 54  machine_status  220320 non-null  object \n",
            "dtypes: float64(52), int64(2), object(1)\n",
            "memory usage: 92.5+ MB\n"
          ]
        }
      ]
    },
    {
      "cell_type": "markdown",
      "source": [
        "Eliminamos las columnas que no son utiles\n",
        "\n",
        "**'sensor_15'**\n",
        "\n",
        "**'Unnamed: 0'**"
      ],
      "metadata": {
        "id": "2a2aZdumwQyr"
      }
    },
    {
      "cell_type": "code",
      "source": [
        "# Eliminar las columnas no relevantes\n",
        "data = data.drop(columns=['sensor_15','Unnamed: 0'])\n",
        "\n",
        "# Revisamos\n",
        "print(data.info())"
      ],
      "metadata": {
        "id": "XdhiBcy0SB9s",
        "colab": {
          "base_uri": "https://localhost:8080/"
        },
        "outputId": "f0262220-644b-41c7-b9d7-e1bc70102225"
      },
      "execution_count": 5,
      "outputs": [
        {
          "output_type": "stream",
          "name": "stdout",
          "text": [
            "<class 'pandas.core.frame.DataFrame'>\n",
            "RangeIndex: 220320 entries, 0 to 220319\n",
            "Data columns (total 53 columns):\n",
            " #   Column          Non-Null Count   Dtype  \n",
            "---  ------          --------------   -----  \n",
            " 0   timestamp       220320 non-null  int64  \n",
            " 1   sensor_00       210112 non-null  float64\n",
            " 2   sensor_01       219951 non-null  float64\n",
            " 3   sensor_02       220301 non-null  float64\n",
            " 4   sensor_03       220301 non-null  float64\n",
            " 5   sensor_04       220301 non-null  float64\n",
            " 6   sensor_05       220301 non-null  float64\n",
            " 7   sensor_06       215522 non-null  float64\n",
            " 8   sensor_07       214869 non-null  float64\n",
            " 9   sensor_08       215213 non-null  float64\n",
            " 10  sensor_09       215725 non-null  float64\n",
            " 11  sensor_10       220301 non-null  float64\n",
            " 12  sensor_11       220301 non-null  float64\n",
            " 13  sensor_12       220301 non-null  float64\n",
            " 14  sensor_13       220301 non-null  float64\n",
            " 15  sensor_14       220299 non-null  float64\n",
            " 16  sensor_16       220289 non-null  float64\n",
            " 17  sensor_17       220274 non-null  float64\n",
            " 18  sensor_18       220274 non-null  float64\n",
            " 19  sensor_19       220304 non-null  float64\n",
            " 20  sensor_20       220304 non-null  float64\n",
            " 21  sensor_21       220304 non-null  float64\n",
            " 22  sensor_22       220279 non-null  float64\n",
            " 23  sensor_23       220304 non-null  float64\n",
            " 24  sensor_24       220304 non-null  float64\n",
            " 25  sensor_25       220284 non-null  float64\n",
            " 26  sensor_26       220300 non-null  float64\n",
            " 27  sensor_27       220304 non-null  float64\n",
            " 28  sensor_28       220304 non-null  float64\n",
            " 29  sensor_29       220248 non-null  float64\n",
            " 30  sensor_30       220059 non-null  float64\n",
            " 31  sensor_31       220304 non-null  float64\n",
            " 32  sensor_32       220252 non-null  float64\n",
            " 33  sensor_33       220304 non-null  float64\n",
            " 34  sensor_34       220304 non-null  float64\n",
            " 35  sensor_35       220304 non-null  float64\n",
            " 36  sensor_36       220304 non-null  float64\n",
            " 37  sensor_37       220304 non-null  float64\n",
            " 38  sensor_38       220293 non-null  float64\n",
            " 39  sensor_39       220293 non-null  float64\n",
            " 40  sensor_40       220293 non-null  float64\n",
            " 41  sensor_41       220293 non-null  float64\n",
            " 42  sensor_42       220293 non-null  float64\n",
            " 43  sensor_43       220293 non-null  float64\n",
            " 44  sensor_44       220293 non-null  float64\n",
            " 45  sensor_45       220293 non-null  float64\n",
            " 46  sensor_46       220293 non-null  float64\n",
            " 47  sensor_47       220293 non-null  float64\n",
            " 48  sensor_48       220293 non-null  float64\n",
            " 49  sensor_49       220293 non-null  float64\n",
            " 50  sensor_50       143303 non-null  float64\n",
            " 51  sensor_51       204937 non-null  float64\n",
            " 52  machine_status  220320 non-null  object \n",
            "dtypes: float64(51), int64(1), object(1)\n",
            "memory usage: 89.1+ MB\n",
            "None\n"
          ]
        }
      ]
    },
    {
      "cell_type": "markdown",
      "source": [
        "Revisar que tipos de clases o etiquetas tiene la columna \"y -> objetivo\""
      ],
      "metadata": {
        "id": "Eh0_yb9exCXY"
      }
    },
    {
      "cell_type": "code",
      "source": [
        "type(sns.scatterplot(x='timestamp', y='machine_status',data=data))"
      ],
      "metadata": {
        "colab": {
          "base_uri": "https://localhost:8080/",
          "height": 636
        },
        "id": "cLF0wTnm10vy",
        "outputId": "9ebe1497-4fa7-493a-a391-a44e78d16b76"
      },
      "execution_count": 6,
      "outputs": [
        {
          "output_type": "execute_result",
          "data": {
            "text/plain": [
              "matplotlib.axes._axes.Axes"
            ],
            "text/html": [
              "<div style=\"max-width:800px; border: 1px solid var(--colab-border-color);\"><style>\n",
              "      pre.function-repr-contents {\n",
              "        overflow-x: auto;\n",
              "        padding: 8px 12px;\n",
              "        max-height: 500px;\n",
              "      }\n",
              "\n",
              "      pre.function-repr-contents.function-repr-contents-collapsed {\n",
              "        cursor: pointer;\n",
              "        max-height: 100px;\n",
              "      }\n",
              "    </style>\n",
              "    <pre style=\"white-space: initial; background:\n",
              "         var(--colab-secondary-surface-color); padding: 8px 12px;\n",
              "         border-bottom: 1px solid var(--colab-border-color);\"><b>matplotlib.axes._axes.Axes</b><br/>def __init__(fig, *args, facecolor=None, frameon=True, sharex=None, sharey=None, label=&#x27;&#x27;, xscale=None, yscale=None, box_aspect=None, **kwargs)</pre><pre class=\"function-repr-contents function-repr-contents-collapsed\" style=\"\"><a class=\"filepath\" style=\"display:none\" href=\"#\">/usr/local/lib/python3.10/dist-packages/matplotlib/axes/_axes.py</a>An Axes object encapsulates all the elements of an individual (sub-)plot in\n",
              "a figure.\n",
              "\n",
              "It contains most of the (sub-)plot elements: `~.axis.Axis`,\n",
              "`~.axis.Tick`, `~.lines.Line2D`, `~.text.Text`, `~.patches.Polygon`, etc.,\n",
              "and sets the coordinate system.\n",
              "\n",
              "Like all visible elements in a figure, Axes is an `.Artist` subclass.\n",
              "\n",
              "The `Axes` instance supports callbacks through a callbacks attribute which\n",
              "is a `~.cbook.CallbackRegistry` instance.  The events you can connect to\n",
              "are &#x27;xlim_changed&#x27; and &#x27;ylim_changed&#x27; and the callback will be called with\n",
              "func(*ax*) where *ax* is the `Axes` instance.\n",
              "\n",
              ".. note::\n",
              "\n",
              "    As a user, you do not instantiate Axes directly, but use Axes creation\n",
              "    methods instead; e.g. from `.pyplot` or `.Figure`:\n",
              "    `~.pyplot.subplots`, `~.pyplot.subplot_mosaic` or `.Figure.add_axes`.\n",
              "\n",
              "Attributes\n",
              "----------\n",
              "dataLim : `.Bbox`\n",
              "    The bounding box enclosing all data displayed in the Axes.\n",
              "viewLim : `.Bbox`\n",
              "    The view limits in data coordinates.</pre>\n",
              "      <script>\n",
              "      if (google.colab.kernel.accessAllowed && google.colab.files && google.colab.files.view) {\n",
              "        for (const element of document.querySelectorAll('.filepath')) {\n",
              "          element.style.display = 'block'\n",
              "          element.onclick = (event) => {\n",
              "            event.preventDefault();\n",
              "            event.stopPropagation();\n",
              "            google.colab.files.view(element.textContent, 46);\n",
              "          };\n",
              "        }\n",
              "      }\n",
              "      for (const element of document.querySelectorAll('.function-repr-contents')) {\n",
              "        element.onclick = (event) => {\n",
              "          event.preventDefault();\n",
              "          event.stopPropagation();\n",
              "          element.classList.toggle('function-repr-contents-collapsed');\n",
              "        };\n",
              "      }\n",
              "      </script>\n",
              "      </div>"
            ]
          },
          "metadata": {},
          "execution_count": 6
        },
        {
          "output_type": "display_data",
          "data": {
            "text/plain": [
              "<Figure size 640x480 with 1 Axes>"
            ],
            "image/png": "[encoded data removed]"
          },
          "metadata": {}
        }
      ]
    },
    {
      "cell_type": "code",
      "source": [
        "#Ver que tipos de clases o etiquetas tiene la columna objetivo\n",
        "data['machine_status'].unique()"
      ],
      "metadata": {
        "colab": {
          "base_uri": "https://localhost:8080/"
        },
        "id": "jpb7-LOUGJne",
        "outputId": "0582ef57-c9a3-49a7-9dca-76505c775ec3"
      },
      "execution_count": 7,
      "outputs": [
        {
          "output_type": "execute_result",
          "data": {
            "text/plain": [
              "array(['NORMAL', 'BROKEN', 'RECOVERING'], dtype=object)"
            ]
          },
          "metadata": {},
          "execution_count": 7
        }
      ]
    },
    {
      "cell_type": "markdown",
      "source": [
        "Convertimos esas etiquetas a etiquetas numericas para trabajar con ellos"
      ],
      "metadata": {
        "id": "efEWb0gaxWmp"
      }
    },
    {
      "cell_type": "code",
      "source": [
        "# Convertimos los valores a numericas 0 a 2 o mas si habrian mas categorias\n",
        "data['machine_status'] = data['machine_status'].map({'NORMAL':0,'BROKEN':1, 'RECOVERING':2 })\n",
        "\n",
        "# Revisamos\n",
        "data['machine_status'].unique()"
      ],
      "metadata": {
        "id": "7WzpNjwPF00X",
        "colab": {
          "base_uri": "https://localhost:8080/"
        },
        "outputId": "3f7d7154-ddaa-4488-e9d2-569e02cde94d"
      },
      "execution_count": 8,
      "outputs": [
        {
          "output_type": "execute_result",
          "data": {
            "text/plain": [
              "array([0, 1, 2])"
            ]
          },
          "metadata": {},
          "execution_count": 8
        }
      ]
    },
    {
      "cell_type": "markdown",
      "source": [
        "Seria bueno saber si tenemos valores nulo o vacios en el dataset... aunque ya se nota en el data.info() que no no tienen una constacia de numeros sino que varian . Para verificar hacemos:"
      ],
      "metadata": {
        "id": "GGWRsKbf0QO2"
      }
    },
    {
      "cell_type": "code",
      "source": [
        "# Verificar si hay valores nulos en cada columna\n",
        "valores_nulos = data.isnull().sum()\n",
        "\n",
        "# Comprobar si algún valor nulo fue encontrado\n",
        "if valores_nulos.sum() == 0:\n",
        "    print('No hay valores nulos en el dataset.')\n",
        "else:\n",
        "    print('Se encontraron valores nulos por columna:')\n",
        "    print(valores_nulos[valores_nulos > 0])\n"
      ],
      "metadata": {
        "colab": {
          "base_uri": "https://localhost:8080/"
        },
        "id": "OO0s9qkEzzl4",
        "outputId": "ce7c81ae-f270-42c4-81f2-37aa32d3d5fe"
      },
      "execution_count": 9,
      "outputs": [
        {
          "output_type": "stream",
          "name": "stdout",
          "text": [
            "Se encontraron valores nulos por columna:\n",
            "sensor_00    10208\n",
            "sensor_01      369\n",
            "sensor_02       19\n",
            "sensor_03       19\n",
            "sensor_04       19\n",
            "sensor_05       19\n",
            "sensor_06     4798\n",
            "sensor_07     5451\n",
            "sensor_08     5107\n",
            "sensor_09     4595\n",
            "sensor_10       19\n",
            "sensor_11       19\n",
            "sensor_12       19\n",
            "sensor_13       19\n",
            "sensor_14       21\n",
            "sensor_16       31\n",
            "sensor_17       46\n",
            "sensor_18       46\n",
            "sensor_19       16\n",
            "sensor_20       16\n",
            "sensor_21       16\n",
            "sensor_22       41\n",
            "sensor_23       16\n",
            "sensor_24       16\n",
            "sensor_25       36\n",
            "sensor_26       20\n",
            "sensor_27       16\n",
            "sensor_28       16\n",
            "sensor_29       72\n",
            "sensor_30      261\n",
            "sensor_31       16\n",
            "sensor_32       68\n",
            "sensor_33       16\n",
            "sensor_34       16\n",
            "sensor_35       16\n",
            "sensor_36       16\n",
            "sensor_37       16\n",
            "sensor_38       27\n",
            "sensor_39       27\n",
            "sensor_40       27\n",
            "sensor_41       27\n",
            "sensor_42       27\n",
            "sensor_43       27\n",
            "sensor_44       27\n",
            "sensor_45       27\n",
            "sensor_46       27\n",
            "sensor_47       27\n",
            "sensor_48       27\n",
            "sensor_49       27\n",
            "sensor_50    77017\n",
            "sensor_51    15383\n",
            "dtype: int64\n"
          ]
        }
      ]
    },
    {
      "cell_type": "markdown",
      "source": [
        "#Con esto ya trendriamos todos las valores del dataset con numeros entero o reales.\n",
        "\n",
        "ahora ... como algunas columnas del dataset tienen campos vacios necesitamos completar o rrellenar esos campos y para ello usamos la media(promedio)"
      ],
      "metadata": {
        "id": "XRGgCajrx1zp"
      }
    },
    {
      "cell_type": "code",
      "source": [
        "#rellenar los datos vacios con la media\n",
        "data = data.fillna(data.mean())\n",
        "\n",
        "# y revisamos\n",
        "print(data.info())"
      ],
      "metadata": {
        "colab": {
          "base_uri": "https://localhost:8080/"
        },
        "id": "-H07tL2aUvdV",
        "outputId": "d0679115-51a3-4d4a-c07b-054f73086e77"
      },
      "execution_count": 10,
      "outputs": [
        {
          "output_type": "stream",
          "name": "stdout",
          "text": [
            "<class 'pandas.core.frame.DataFrame'>\n",
            "RangeIndex: 220320 entries, 0 to 220319\n",
            "Data columns (total 53 columns):\n",
            " #   Column          Non-Null Count   Dtype  \n",
            "---  ------          --------------   -----  \n",
            " 0   timestamp       220320 non-null  int64  \n",
            " 1   sensor_00       220320 non-null  float64\n",
            " 2   sensor_01       220320 non-null  float64\n",
            " 3   sensor_02       220320 non-null  float64\n",
            " 4   sensor_03       220320 non-null  float64\n",
            " 5   sensor_04       220320 non-null  float64\n",
            " 6   sensor_05       220320 non-null  float64\n",
            " 7   sensor_06       220320 non-null  float64\n",
            " 8   sensor_07       220320 non-null  float64\n",
            " 9   sensor_08       220320 non-null  float64\n",
            " 10  sensor_09       220320 non-null  float64\n",
            " 11  sensor_10       220320 non-null  float64\n",
            " 12  sensor_11       220320 non-null  float64\n",
            " 13  sensor_12       220320 non-null  float64\n",
            " 14  sensor_13       220320 non-null  float64\n",
            " 15  sensor_14       220320 non-null  float64\n",
            " 16  sensor_16       220320 non-null  float64\n",
            " 17  sensor_17       220320 non-null  float64\n",
            " 18  sensor_18       220320 non-null  float64\n",
            " 19  sensor_19       220320 non-null  float64\n",
            " 20  sensor_20       220320 non-null  float64\n",
            " 21  sensor_21       220320 non-null  float64\n",
            " 22  sensor_22       220320 non-null  float64\n",
            " 23  sensor_23       220320 non-null  float64\n",
            " 24  sensor_24       220320 non-null  float64\n",
            " 25  sensor_25       220320 non-null  float64\n",
            " 26  sensor_26       220320 non-null  float64\n",
            " 27  sensor_27       220320 non-null  float64\n",
            " 28  sensor_28       220320 non-null  float64\n",
            " 29  sensor_29       220320 non-null  float64\n",
            " 30  sensor_30       220320 non-null  float64\n",
            " 31  sensor_31       220320 non-null  float64\n",
            " 32  sensor_32       220320 non-null  float64\n",
            " 33  sensor_33       220320 non-null  float64\n",
            " 34  sensor_34       220320 non-null  float64\n",
            " 35  sensor_35       220320 non-null  float64\n",
            " 36  sensor_36       220320 non-null  float64\n",
            " 37  sensor_37       220320 non-null  float64\n",
            " 38  sensor_38       220320 non-null  float64\n",
            " 39  sensor_39       220320 non-null  float64\n",
            " 40  sensor_40       220320 non-null  float64\n",
            " 41  sensor_41       220320 non-null  float64\n",
            " 42  sensor_42       220320 non-null  float64\n",
            " 43  sensor_43       220320 non-null  float64\n",
            " 44  sensor_44       220320 non-null  float64\n",
            " 45  sensor_45       220320 non-null  float64\n",
            " 46  sensor_46       220320 non-null  float64\n",
            " 47  sensor_47       220320 non-null  float64\n",
            " 48  sensor_48       220320 non-null  float64\n",
            " 49  sensor_49       220320 non-null  float64\n",
            " 50  sensor_50       220320 non-null  float64\n",
            " 51  sensor_51       220320 non-null  float64\n",
            " 52  machine_status  220320 non-null  int64  \n",
            "dtypes: float64(51), int64(2)\n",
            "memory usage: 89.1 MB\n",
            "None\n"
          ]
        }
      ]
    },
    {
      "cell_type": "code",
      "source": [
        "import matplotlib.pyplot as plt\n",
        "colores = {0: 'blue', 1: 'orange', 2: 'green'}\n",
        "plt.figure(figsize=(12, 6))  # Ajustar el ancho y alto de la figura\n",
        "# Crear el gráfico\n",
        "sns.relplot(data=data, x=\"timestamp\", y=\"sensor_00\", hue=\"machine_status\", palette=colores)\n",
        "# Mostrar el gráfico\n",
        "plt.show()"
      ],
      "metadata": {
        "colab": {
          "base_uri": "https://localhost:8080/",
          "height": 523
        },
        "id": "XWChTOoAoXn4",
        "outputId": "d17e2c41-2451-4707-b4b9-6077f4a699a3"
      },
      "execution_count": 11,
      "outputs": [
        {
          "output_type": "display_data",
          "data": {
            "text/plain": [
              "<Figure size 1200x600 with 0 Axes>"
            ]
          },
          "metadata": {}
        },
        {
          "output_type": "display_data",
          "data": {
            "text/plain": [
              "<Figure size 620.361x500 with 1 Axes>"
            ],
            "image/png": "[encoded data removed]"
          },
          "metadata": {}
        }
      ]
    },
    {
      "cell_type": "markdown",
      "source": [
        "# Con el dataset listo. tenemos que separar los valores en \"X\" y \"y\""
      ],
      "metadata": {
        "id": "EDJjIE_C1WTX"
      }
    },
    {
      "cell_type": "code",
      "source": [
        "# Separamos los ejemplos en \"X\" y \"y\"\n",
        "X = data.drop(columns=['machine_status']).values\n",
        "y = data['machine_status'].values\n",
        "print(X)\n",
        "print('_'*50)\n",
        "print(y)"
      ],
      "metadata": {
        "colab": {
          "base_uri": "https://localhost:8080/"
        },
        "id": "C8NEJDI9Gs3G",
        "outputId": "ef785136-eb73-4d56-8960-b62558458da0"
      },
      "execution_count": 12,
      "outputs": [
        {
          "output_type": "stream",
          "name": "stdout",
          "text": [
            "[[1.52254080e+18 2.46539400e+00 4.70920100e+01 ... 6.77083400e+01\n",
            "  2.43055600e+02 2.01388900e+02]\n",
            " [1.52254086e+18 2.46539400e+00 4.70920100e+01 ... 6.77083400e+01\n",
            "  2.43055600e+02 2.01388900e+02]\n",
            " [1.52254092e+18 2.44473400e+00 4.73524300e+01 ... 6.71296300e+01\n",
            "  2.41319400e+02 2.03703700e+02]\n",
            " ...\n",
            " [1.53575982e+18 2.39652800e+00 4.76996498e+01 ... 1.55381900e+02\n",
            "  1.83049260e+02 2.32060200e+02]\n",
            " [1.53575988e+18 2.40636600e+00 4.76996498e+01 ... 1.53935200e+02\n",
            "  1.83049260e+02 2.34085600e+02]\n",
            " [1.53575994e+18 2.39652800e+00 4.76996498e+01 ... 1.50463000e+02\n",
            "  1.83049260e+02 2.34085600e+02]]\n",
            "__________________________________________________\n",
            "[0 0 0 ... 0 0 0]\n"
          ]
        }
      ]
    },
    {
      "cell_type": "markdown",
      "source": [
        "solo por contexto se revisa la cantidad ejemplos para cada categoria"
      ],
      "metadata": {
        "id": "c3232KvF11I4"
      }
    },
    {
      "cell_type": "code",
      "source": [
        "# Calcula el número de ejemplos por clase en y\n",
        "num_clases = np.bincount(y)\n",
        "# Imprime el número de ejemplos por clase\n",
        "for clase, num_ejemplos in enumerate(num_clases):\n",
        "    print(f'Etiquetas de la clase {clase}: {num_ejemplos}')"
      ],
      "metadata": {
        "colab": {
          "base_uri": "https://localhost:8080/"
        },
        "id": "EA8QeyhXvPeJ",
        "outputId": "f765da87-9194-47bb-d83b-0b9d4561c139"
      },
      "execution_count": 13,
      "outputs": [
        {
          "output_type": "stream",
          "name": "stdout",
          "text": [
            "Etiquetas de la clase 0: 205836\n",
            "Etiquetas de la clase 1: 7\n",
            "Etiquetas de la clase 2: 14477\n"
          ]
        }
      ]
    },
    {
      "cell_type": "markdown",
      "source": [
        "# ahora toca Normalizar la matris \"X\"\n",
        "nota: siempre normaliza para evitar problema de balanceo"
      ],
      "metadata": {
        "id": "1VFuBxvuNceP"
      }
    },
    {
      "cell_type": "code",
      "source": [
        "from sklearn.preprocessing import StandardScaler\n",
        "# Crea un objeto StandardScaler\n",
        "scaler = StandardScaler()\n",
        "# Ajusta y transforma toda la matriz de características\n",
        "X_norm = scaler.fit_transform(X)\n",
        "\n",
        "# Revisamos\n",
        "print(X_norm)"
      ],
      "metadata": {
        "id": "he4HYe9cNYN4",
        "colab": {
          "base_uri": "https://localhost:8080/"
        },
        "outputId": "7e45026a-2b8e-477c-866d-9bea0d3079ea"
      },
      "execution_count": 14,
      "outputs": [
        {
          "output_type": "stream",
          "name": "stdout",
          "text": [
            "[[-1.73204295e+00  2.31449742e-01 -1.51674693e-01 ...  5.53137637e-01\n",
            "   1.14014446e+00 -1.24016035e-02]\n",
            " [-1.73202722e+00  2.31449742e-01 -1.51674693e-01 ...  5.53137637e-01\n",
            "   1.14014446e+00 -1.24016035e-02]\n",
            " [-1.73201150e+00  1.80128627e-01 -7.26133074e-02 ...  5.22905766e-01\n",
            "   1.10715597e+00  9.49949505e-03]\n",
            " ...\n",
            " [ 1.73201150e+00  6.03810161e-02  3.27997916e-02 ...  5.13321360e+00\n",
            "   1.08004771e-15  2.77789845e-01]\n",
            " [ 1.73202722e+00  8.48194055e-02  3.27997916e-02 ...  5.05763784e+00\n",
            "   1.08004771e-15  2.96952833e-01]\n",
            " [ 1.73204295e+00  6.03810161e-02  3.27997916e-02 ...  4.87624974e+00\n",
            "   1.08004771e-15  2.96952833e-01]]\n"
          ]
        }
      ]
    },
    {
      "cell_type": "markdown",
      "source": [
        "# Los datos ya estan listos para el calculo\n"
      ],
      "metadata": {
        "id": "RHSLeJ4Jbb61"
      }
    },
    {
      "cell_type": "markdown",
      "source": [
        "funcion de la **sigmoide**, que devuelve una probabilidad"
      ],
      "metadata": {
        "id": "VqmiG_an21Z_"
      }
    },
    {
      "cell_type": "code",
      "source": [
        "def calcularSigmoide(z):\n",
        "    return 1.0 / (1.0 + np.exp(-z))"
      ],
      "metadata": {
        "id": "0Dpv2do1I99v"
      },
      "execution_count": 15,
      "outputs": []
    },
    {
      "cell_type": "markdown",
      "source": [
        "Funcion de **Costo**: calcula el costo y el gradiente del costo para un conjunto de valores dado"
      ],
      "metadata": {
        "id": "DyA_czYP29XQ"
      }
    },
    {
      "cell_type": "code",
      "source": [
        "def calcularCosto(theta, X, y, lambda_):\n",
        "    # Inicializa algunos valores utiles\n",
        "    m = y.size\n",
        "\n",
        "    # convierte las etiquetas a valores enteros si son boleanos\n",
        "    if y.dtype == bool:\n",
        "        y = y.astype(int)\n",
        "\n",
        "    J = 0\n",
        "    grad = np.zeros(theta.shape)\n",
        "\n",
        "    h = calcularSigmoide(X.dot(theta.T))\n",
        "\n",
        "    temp = theta\n",
        "    temp[0] = 0\n",
        "\n",
        "    J = (1 / m) * np.sum(-y.dot(np.log(h)) - (1 - y).dot(np.log(1 - h))) + (lambda_ / (2 * m)) * np.sum(np.square(temp))\n",
        "\n",
        "    grad = (1 / m) * (h - y).dot(X)\n",
        "    # Se aplica regularizacion en la siguiente linea\n",
        "    grad = grad + (lambda_ / m) * temp\n",
        "\n",
        "    return J, grad\n",
        "    # j = num_real   el costo\n",
        "    # grad = vector  el gradiente"
      ],
      "metadata": {
        "id": "J9QACPmdJyyi"
      },
      "execution_count": 16,
      "outputs": []
    },
    {
      "cell_type": "markdown",
      "source": [
        "# Funcion \"**One_Vs_All**\""
      ],
      "metadata": {
        "id": "qDXM3DNL3x3W"
      }
    },
    {
      "cell_type": "code",
      "source": [
        "def oneVsAll(X, y, num_labels, lambda_):\n",
        "\n",
        "    m, n = X.shape\n",
        "\n",
        "    all_theta = np.zeros((num_labels, n + 1))\n",
        "\n",
        "    # Agrega unos a la matriz X\n",
        "    X = np.concatenate([np.ones((m, 1)), X], axis=1)\n",
        "\n",
        "\n",
        "    for c in np.arange(num_labels):\n",
        "        initial_theta = np.zeros(n + 1)\n",
        "        options = {'maxiter': 50}\n",
        "        res = optimize.minimize(calcularCosto,\n",
        "                                initial_theta,\n",
        "                                (X, (y == (c + 1)), lambda_),\n",
        "                                jac=True,\n",
        "                                method='BFGS',\n",
        "                                options=options)\n",
        "\n",
        "        all_theta[c] = res.x\n",
        "\n",
        "    return all_theta"
      ],
      "metadata": {
        "id": "-mqv2BdyKYAI"
      },
      "execution_count": 17,
      "outputs": []
    },
    {
      "cell_type": "markdown",
      "source": [
        "# Tenemos que separar un 80% para entrenamiento y 20% para pueba\n",
        "ojo: se debe garantizar que el conjunto de prueba entre el 80% de los datos de cada clase(etiqueta)"
      ],
      "metadata": {
        "id": "unXzShUB4DyY"
      }
    },
    {
      "cell_type": "code",
      "source": [
        "# libreria\n",
        "from sklearn.model_selection import train_test_split\n",
        "\n",
        "# es para la division proporcional de cada clase\n",
        "X_train, X_test, y_train, y_test = train_test_split(X_norm,y, test_size=0.2,random_state=2,\n",
        "                                                    stratify=y) # <- esto garentiza que se va ha separar el 80% de cada etiqueta(clase)"
      ],
      "metadata": {
        "id": "KqKLa4ZLs3Fb"
      },
      "execution_count": 18,
      "outputs": []
    },
    {
      "cell_type": "markdown",
      "source": [
        "revisamos que si se hayan separado correctamente"
      ],
      "metadata": {
        "id": "PmqRPz1k4zUp"
      }
    },
    {
      "cell_type": "code",
      "source": [
        "#revisamos\n",
        "# Calcula el número de ejemplos por clase en y\n",
        "num_clases = np.bincount(y_train)\n",
        "# Imprime el número de ejemplos por clase\n",
        "for clase, num_ejemplos in enumerate(num_clases):\n",
        "    print(f'Etiquetas 80% de la clase {clase}: {num_ejemplos}')"
      ],
      "metadata": {
        "colab": {
          "base_uri": "https://localhost:8080/"
        },
        "id": "gVzK-i-04syn",
        "outputId": "81f4ee55-8c07-4fa5-e5a4-0dc8909e6ce3"
      },
      "execution_count": 19,
      "outputs": [
        {
          "output_type": "stream",
          "name": "stdout",
          "text": [
            "Etiquetas 80% de la clase 0: 164669\n",
            "Etiquetas 80% de la clase 1: 5\n",
            "Etiquetas 80% de la clase 2: 11582\n"
          ]
        }
      ]
    },
    {
      "cell_type": "code",
      "source": [
        "#revisamos\n",
        "# Calcula el número de ejemplos por clase en y\n",
        "num_clases = np.bincount(y_test)\n",
        "# Imprime el número de ejemplos por clase\n",
        "for clase, num_ejemplos in enumerate(num_clases):\n",
        "    print(f'Etiquetas 20% de la clase {clase}: {num_ejemplos}')"
      ],
      "metadata": {
        "colab": {
          "base_uri": "https://localhost:8080/"
        },
        "id": "7KZf_Iy75Oqd",
        "outputId": "7bd4a3fe-a60b-41df-9003-931aaf96d248"
      },
      "execution_count": 20,
      "outputs": [
        {
          "output_type": "stream",
          "name": "stdout",
          "text": [
            "Etiquetas 20% de la clase 0: 41167\n",
            "Etiquetas 20% de la clase 1: 2\n",
            "Etiquetas 20% de la clase 2: 2895\n"
          ]
        }
      ]
    },
    {
      "cell_type": "markdown",
      "source": [
        "# Bien, con todo listo, hacemos el entrenamiento del Modelo\n",
        " les damos valores a : lambda,  num_labels"
      ],
      "metadata": {
        "id": "KHIBaHxm5YMm"
      }
    },
    {
      "cell_type": "code",
      "source": [
        "# asignamos parametros para :\n",
        "num_labels = 3\n",
        "lambda_ = 0.001\n",
        "# y llamamos a la funcion one vs all\n",
        "all_theta = oneVsAll(X_train, y_train, num_labels, lambda_)"
      ],
      "metadata": {
        "id": "-gSBtn4OKkRx"
      },
      "execution_count": 21,
      "outputs": []
    },
    {
      "cell_type": "code",
      "source": [
        "# revisamos all_Theta\n",
        "print(all_theta)"
      ],
      "metadata": {
        "colab": {
          "base_uri": "https://localhost:8080/"
        },
        "id": "PmVKqqaaLpRw",
        "outputId": "1b833cbf-b36c-47fb-9838-51954103455f"
      },
      "execution_count": 22,
      "outputs": [
        {
          "output_type": "stream",
          "name": "stdout",
          "text": [
            "[[-1.13115542e+01 -2.73801324e-02 -1.39205814e-01  2.40308716e-02\n",
            "   5.82216148e-02  7.01240925e-03 -6.28589596e-02 -4.29486612e-02\n",
            "  -1.42178297e-01 -9.88480932e-02 -1.00751071e-01 -1.09252211e-01\n",
            "  -1.16786237e-02 -1.64455181e-02 -4.43538767e-02  1.69809576e-02\n",
            "   3.06078004e-02  2.83304094e-02  2.99351297e-02  2.54071734e-02\n",
            "   3.01146884e-02  2.87528996e-02  2.76751579e-02  2.67870962e-02\n",
            "   2.65232173e-02  2.99783378e-02  2.86126972e-02  2.71901463e-02\n",
            "   8.43917687e-03  8.25495207e-02  3.84068443e-02  2.99490553e-02\n",
            "   3.55965726e-02  1.74782645e-02  3.10255840e-02  8.94035464e-03\n",
            "   1.19445792e-02 -5.41175115e-02  1.36936707e-02  1.53384918e-01\n",
            "   7.11748597e-02  8.99483811e-02 -5.24478557e-02 -8.40610213e-02\n",
            "  -7.53915457e-02 -6.39199298e-02 -4.75041479e-02 -3.96903308e-02\n",
            "   9.94566917e-03  7.45770460e-02  4.66037944e-02  1.29227824e-01\n",
            "   5.68045156e-02]\n",
            " [-1.11817629e+01  6.34281514e-02  1.11858021e+00 -1.74408273e+00\n",
            "   1.12241009e-01  1.07061966e+00 -8.65379903e-01 -1.15928700e+00\n",
            "  -3.27492622e-01  3.91906967e-01 -2.95648039e-01  2.51553280e-01\n",
            "  -1.90453408e+00 -1.52222945e+00 -6.51029326e-01 -3.12244069e-02\n",
            "   3.50365350e-01  1.79254485e-01 -1.84912726e-01 -9.00351449e-02\n",
            "   1.34966865e-01  1.98536014e-01  1.61596461e-01  9.09675005e-02\n",
            "   4.07025323e-01  7.98941686e-02  9.29302388e-02  2.02803113e-01\n",
            "   2.11291402e-01  3.64501003e-01  1.28467084e-01  2.29366079e-01\n",
            "   7.61435081e-01  7.88620714e-04  2.55695506e-01 -4.78828136e-01\n",
            "   5.00275424e-01 -1.09493450e+00 -3.96770538e-01 -2.46074244e-01\n",
            "   2.36283447e-01  1.71330751e-01  2.81318326e-01 -2.49547573e-01\n",
            "  -1.35972471e-01  1.06748325e-02 -3.04123319e-01 -2.81401079e-01\n",
            "   2.39355418e-01  7.74693957e-01 -4.27030491e-03 -5.53185966e-02\n",
            "   1.03936449e+00]\n",
            " [-1.17744805e+01 -3.18332193e-04  3.98282780e-03  1.03879636e-02\n",
            "   3.48194592e-03 -4.41171264e-04  6.29700820e-03  6.43734459e-03\n",
            "   3.30643177e-03 -3.28483697e-04  2.28509658e-03 -2.68824148e-03\n",
            "   4.54526726e-03 -1.01822394e-03 -1.57272756e-02  7.80193902e-03\n",
            "   2.53007541e-02  2.39259699e-02  2.88713242e-02  2.59780622e-02\n",
            "   2.52925897e-02  2.44156487e-02  2.35322244e-02  2.40747940e-02\n",
            "   2.26345369e-02  2.54567530e-02  2.53562376e-02  2.12518887e-02\n",
            "   8.00965558e-03  2.28220661e-02  2.18356836e-02  2.25188496e-02\n",
            "   2.07029967e-02  1.65468566e-02  2.15350460e-02  9.61905897e-03\n",
            "   2.08630552e-02 -6.14195096e-04  5.01969679e-03 -8.21376514e-03\n",
            "   5.84304235e-03  6.02460702e-03 -8.06018012e-03  1.82729713e-05\n",
            "   6.16884702e-03  8.61496297e-03  5.67958780e-03  3.76997235e-03\n",
            "  -4.28711105e-03  8.26134450e-03 -5.32575232e-03  5.64552189e-03\n",
            "   2.47795091e-03]]\n"
          ]
        }
      ]
    },
    {
      "cell_type": "code",
      "source": [
        "# tamaño de:\n",
        "print('tamaño de all_theta\\n',all_theta.shape)\n",
        "print ('-'*20)\n",
        "print('tamaño de X_test\\n',X_test.shape)"
      ],
      "metadata": {
        "colab": {
          "base_uri": "https://localhost:8080/"
        },
        "id": "p0NiAfyMRWOA",
        "outputId": "0f4f4ae3-d992-4a41-93f4-2d69e2a347bc"
      },
      "execution_count": 23,
      "outputs": [
        {
          "output_type": "stream",
          "name": "stdout",
          "text": [
            "tamaño de all_theta\n",
            " (3, 53)\n",
            "--------------------\n",
            "tamaño de X_test\n",
            " (44064, 52)\n"
          ]
        }
      ]
    },
    {
      "cell_type": "markdown",
      "source": [
        "\n"
      ],
      "metadata": {
        "id": "HGUuATkI6h0G"
      }
    },
    {
      "cell_type": "markdown",
      "source": [
        "Funcion de **prediccion One vs All**"
      ],
      "metadata": {
        "id": "hxmOb6Rj8B89"
      }
    },
    {
      "cell_type": "code",
      "source": [
        "def predictOneVsAll(all_theta, X):\n",
        "    m = X.shape[0];\n",
        "    num_labels = all_theta.shape[0]\n",
        "\n",
        "    p = np.zeros(m)\n",
        "\n",
        "    # OJO : para que se pueda hacer la prediccion necesitamos que theta y X_test tengan la misma cantidad de columnas.\n",
        "    # esto porque es regla de multiplicacion de matrices y la matriz all_theta se transpone luego\n",
        "\n",
        "    # Add ones to the X data matrix\n",
        "    X = np.concatenate([np.ones((m, 1)), X], axis=1) ##-> esto agrega una columna de unos a la X que entro\n",
        "    p = np.argmax(calcularSigmoide(X.dot(all_theta.T)), axis = 1)\n",
        "\n",
        "    return p       # por que la etiquetas van desde el 0 hasta n\n",
        "    #return p+1    # si tus etiquetas inician desde 1 hasta n SOLO AGREGAR +1"
      ],
      "metadata": {
        "id": "WHyW76o7LvjI"
      },
      "execution_count": 24,
      "outputs": []
    },
    {
      "cell_type": "markdown",
      "source": [
        "# Por ultimo se hace las predicciones con el otro 20% de los datos"
      ],
      "metadata": {
        "id": "7NQCRvZW7uV-"
      }
    },
    {
      "cell_type": "code",
      "source": [
        "# Realiza las predicciones utilizando la función predictOneVsAll\n",
        "predic = predictOneVsAll(all_theta, X_test)\n",
        "\n",
        "# Calcula la precisión del modelo en el conjunto de prueba\n",
        "precision_test = np.mean(predic == y_test) * 100\n",
        "print('Precision del conjunto de prueba: {:.2f}%'.format(precision_test))\n",
        "\n",
        "# Calcula los ejemplos donde el modelo acertó y donde se equivocó\n",
        "aciertos = np.sum(predic == y_test)\n",
        "errores = np.sum(predic != y_test)\n",
        "\n",
        "print(f'Ejemplos acertados: {aciertos}')\n",
        "print(f'Ejemplos erróneos: {errores}')"
      ],
      "metadata": {
        "colab": {
          "base_uri": "https://localhost:8080/"
        },
        "id": "T8RpD5AFL3Vw",
        "outputId": "c33df678-06a1-47d3-c355-66b0f9009a45"
      },
      "execution_count": 25,
      "outputs": [
        {
          "output_type": "stream",
          "name": "stdout",
          "text": [
            "Precision del conjunto de prueba: 55.63%\n",
            "Ejemplos acertados: 24511\n",
            "Ejemplos erróneos: 19553\n"
          ]
        }
      ]
    }
  ]
}