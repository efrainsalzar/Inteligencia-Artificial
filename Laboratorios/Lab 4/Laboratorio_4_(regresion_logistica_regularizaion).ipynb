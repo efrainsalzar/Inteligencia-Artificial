{
  "nbformat": 4,
  "nbformat_minor": 0,
  "metadata": {
    "colab": {
      "provenance": []
    },
    "kernelspec": {
      "name": "python3",
      "display_name": "Python 3"
    },
    "language_info": {
      "name": "python"
    }
  },
  "cells": [
    {
      "cell_type": "markdown",
      "source": [
        "# #**Dataset de Clasificacion estelar**\n",
        " Este cojunto de datos es la clasificación del espacio  mediante las estrellas (luces del espacio) en función de sus características\n",
        " espectrales. El esquema de clasificación de\n",
        " galaxias, cuásares y estrellas es uno de los más\n",
        " fundamentales de la astronomía."
      ],
      "metadata": {
        "id": "rAxl403e0QGu"
      }
    },
    {
      "cell_type": "markdown",
      "source": [
        "Primero se importan las Libreria para usar"
      ],
      "metadata": {
        "id": "SwjLsD65Qpul"
      }
    },
    {
      "cell_type": "code",
      "execution_count": 1,
      "metadata": {
        "id": "nxQxnJhmUrXq"
      },
      "outputs": [],
      "source": [
        "import pandas as pd\n",
        "import numpy as np\n",
        "from matplotlib import pyplot\n",
        "from scipy import optimize\n",
        "\n",
        "%matplotlib inline"
      ]
    },
    {
      "cell_type": "markdown",
      "source": [
        "Cargamos los datos y los se guardan en \"data\""
      ],
      "metadata": {
        "id": "uqp0fECVQxc1"
      }
    },
    {
      "cell_type": "code",
      "source": [
        "data = pd.read_csv('/content/drive/MyDrive/Inteligecia Artificial l/Laboratorio 2/star_classification.csv')"
      ],
      "metadata": {
        "id": "P_kyW1U2Yy19"
      },
      "execution_count": 2,
      "outputs": []
    },
    {
      "cell_type": "code",
      "source": [
        "#imprime lo que tiene data\n",
        "print(data)"
      ],
      "metadata": {
        "colab": {
          "base_uri": "https://localhost:8080/"
        },
        "id": "IC3nlFPmakBM",
        "outputId": "f295fbc5-7f6a-4bcf-fae5-03f0b7a1de1c"
      },
      "execution_count": 3,
      "outputs": [
        {
          "output_type": "stream",
          "name": "stdout",
          "text": [
            "             obj_ID       alpha      delta         u         g         r  \\\n",
            "0      1.237661e+18  135.689107  32.494632  23.87882  22.27530  20.39501   \n",
            "1      1.237665e+18  144.826101  31.274185  24.77759  22.83188  22.58444   \n",
            "2      1.237661e+18  142.188790  35.582444  25.26307  22.66389  20.60976   \n",
            "3      1.237663e+18  338.741038  -0.402828  22.13682  23.77656  21.61162   \n",
            "4      1.237680e+18  345.282593  21.183866  19.43718  17.58028  16.49747   \n",
            "...             ...         ...        ...       ...       ...       ...   \n",
            "99995  1.237679e+18   39.620709  -2.594074  22.16759  22.97586  21.90404   \n",
            "99996  1.237679e+18   29.493819  19.798874  22.69118  22.38628  20.45003   \n",
            "99997  1.237668e+18  224.587407  15.700707  21.16916  19.26997  18.20428   \n",
            "99998  1.237661e+18  212.268621  46.660365  25.35039  21.63757  19.91386   \n",
            "99999  1.237661e+18  196.896053  49.464643  22.62171  21.79745  20.60115   \n",
            "\n",
            "              i         z  run_ID  rerun_ID  cam_col  field_ID   spec_obj_ID  \\\n",
            "0      19.16573  18.79371    3606       301        2        79  6.543777e+18   \n",
            "1      21.16812  21.61427    4518       301        5       119  1.176014e+19   \n",
            "2      19.34857  18.94827    3606       301        2       120  5.152200e+18   \n",
            "3      20.50454  19.25010    4192       301        3       214  1.030107e+19   \n",
            "4      15.97711  15.54461    8102       301        3       137  6.891865e+18   \n",
            "...         ...       ...     ...       ...      ...       ...           ...   \n",
            "99995  21.30548  20.73569    7778       301        2       581  1.055431e+19   \n",
            "99996  19.75759  19.41526    7917       301        1       289  8.586351e+18   \n",
            "99997  17.69034  17.35221    5314       301        4       308  3.112008e+18   \n",
            "99998  19.07254  18.62482    3650       301        4       131  7.601080e+18   \n",
            "99999  20.00959  19.28075    3650       301        4        60  8.343152e+18   \n",
            "\n",
            "        class  redshift  plate    MJD  fiber_ID  \n",
            "0      GALAXY  0.634794   5812  56354       171  \n",
            "1      GALAXY  0.779136  10445  58158       427  \n",
            "2      GALAXY  0.644195   4576  55592       299  \n",
            "3      GALAXY  0.932346   9149  58039       775  \n",
            "4      GALAXY  0.116123   6121  56187       842  \n",
            "...       ...       ...    ...    ...       ...  \n",
            "99995  GALAXY  0.000000   9374  57749       438  \n",
            "99996  GALAXY  0.404895   7626  56934       866  \n",
            "99997  GALAXY  0.143366   2764  54535        74  \n",
            "99998  GALAXY  0.455040   6751  56368       470  \n",
            "99999  GALAXY  0.542944   7410  57104       851  \n",
            "\n",
            "[100000 rows x 18 columns]\n"
          ]
        }
      ]
    },
    {
      "cell_type": "markdown",
      "source": [
        "Graficamos para ver como se ven los datos"
      ],
      "metadata": {
        "id": "4qCnY0WK1S4N"
      }
    },
    {
      "cell_type": "code",
      "source": [
        "# ver los tipos de valores que tiene data\n",
        "data.info()"
      ],
      "metadata": {
        "colab": {
          "base_uri": "https://localhost:8080/"
        },
        "id": "15BISZ2tdzCk",
        "outputId": "9368c0fc-bdc9-45b3-8006-1c013065a37d"
      },
      "execution_count": 4,
      "outputs": [
        {
          "output_type": "stream",
          "name": "stdout",
          "text": [
            "<class 'pandas.core.frame.DataFrame'>\n",
            "RangeIndex: 100000 entries, 0 to 99999\n",
            "Data columns (total 18 columns):\n",
            " #   Column       Non-Null Count   Dtype  \n",
            "---  ------       --------------   -----  \n",
            " 0   obj_ID       100000 non-null  float64\n",
            " 1   alpha        100000 non-null  float64\n",
            " 2   delta        100000 non-null  float64\n",
            " 3   u            100000 non-null  float64\n",
            " 4   g            100000 non-null  float64\n",
            " 5   r            100000 non-null  float64\n",
            " 6   i            100000 non-null  float64\n",
            " 7   z            100000 non-null  float64\n",
            " 8   run_ID       100000 non-null  int64  \n",
            " 9   rerun_ID     100000 non-null  int64  \n",
            " 10  cam_col      100000 non-null  int64  \n",
            " 11  field_ID     100000 non-null  int64  \n",
            " 12  spec_obj_ID  100000 non-null  float64\n",
            " 13  class        100000 non-null  object \n",
            " 14  redshift     100000 non-null  float64\n",
            " 15  plate        100000 non-null  int64  \n",
            " 16  MJD          100000 non-null  int64  \n",
            " 17  fiber_ID     100000 non-null  int64  \n",
            "dtypes: float64(10), int64(7), object(1)\n",
            "memory usage: 13.7+ MB\n"
          ]
        }
      ]
    },
    {
      "cell_type": "code",
      "source": [
        "#mas detallles\n",
        "print(data.describe())"
      ],
      "metadata": {
        "colab": {
          "base_uri": "https://localhost:8080/"
        },
        "id": "RHJ96HhGks4V",
        "outputId": "c7297120-989a-44df-9d5b-fccef94887cc"
      },
      "execution_count": 5,
      "outputs": [
        {
          "output_type": "stream",
          "name": "stdout",
          "text": [
            "             obj_ID          alpha          delta              u  \\\n",
            "count  1.000000e+05  100000.000000  100000.000000  100000.000000   \n",
            "mean   1.237665e+18     177.629117      24.135305      21.980468   \n",
            "std    8.438560e+12      96.502241      19.644665      31.769291   \n",
            "min    1.237646e+18       0.005528     -18.785328   -9999.000000   \n",
            "25%    1.237659e+18     127.518222       5.146771      20.352353   \n",
            "50%    1.237663e+18     180.900700      23.645922      22.179135   \n",
            "75%    1.237668e+18     233.895005      39.901550      23.687440   \n",
            "max    1.237681e+18     359.999810      83.000519      32.781390   \n",
            "\n",
            "                   g              r              i              z  \\\n",
            "count  100000.000000  100000.000000  100000.000000  100000.000000   \n",
            "mean       20.531387      19.645762      19.084854      18.668810   \n",
            "std        31.750292       1.854760       1.757895      31.728152   \n",
            "min     -9999.000000       9.822070       9.469903   -9999.000000   \n",
            "25%        18.965230      18.135828      17.732285      17.460677   \n",
            "50%        21.099835      20.125290      19.405145      19.004595   \n",
            "75%        22.123767      21.044785      20.396495      19.921120   \n",
            "max        31.602240      29.571860      32.141470      29.383740   \n",
            "\n",
            "              run_ID  rerun_ID        cam_col       field_ID   spec_obj_ID  \\\n",
            "count  100000.000000  100000.0  100000.000000  100000.000000  1.000000e+05   \n",
            "mean     4481.366060     301.0       3.511610     186.130520  5.783882e+18   \n",
            "std      1964.764593       0.0       1.586912     149.011073  3.324016e+18   \n",
            "min       109.000000     301.0       1.000000      11.000000  2.995191e+17   \n",
            "25%      3187.000000     301.0       2.000000      82.000000  2.844138e+18   \n",
            "50%      4188.000000     301.0       4.000000     146.000000  5.614883e+18   \n",
            "75%      5326.000000     301.0       5.000000     241.000000  8.332144e+18   \n",
            "max      8162.000000     301.0       6.000000     989.000000  1.412694e+19   \n",
            "\n",
            "            redshift          plate            MJD       fiber_ID  \n",
            "count  100000.000000  100000.000000  100000.000000  100000.000000  \n",
            "mean        0.576661    5137.009660   55588.647500     449.312740  \n",
            "std         0.730707    2952.303351    1808.484233     272.498404  \n",
            "min        -0.009971     266.000000   51608.000000       1.000000  \n",
            "25%         0.054517    2526.000000   54234.000000     221.000000  \n",
            "50%         0.424173    4987.000000   55868.500000     433.000000  \n",
            "75%         0.704154    7400.250000   56777.000000     645.000000  \n",
            "max         7.011245   12547.000000   58932.000000    1000.000000  \n"
          ]
        }
      ]
    },
    {
      "cell_type": "markdown",
      "source": [
        "La variable objetivo seria los valores de la Columna \"class\""
      ],
      "metadata": {
        "id": "Jx6mUdrNRTO_"
      }
    },
    {
      "cell_type": "markdown",
      "source": [
        "y revisamos que tipo de valores tiene"
      ],
      "metadata": {
        "id": "4EH3ccTJRp7F"
      }
    },
    {
      "cell_type": "code",
      "source": [
        "# Calcular la cantidad de valores diferentes en una columna\n",
        "cantidad_valores_diferentes = data['class'].unique()\n",
        "print(cantidad_valores_diferentes)"
      ],
      "metadata": {
        "colab": {
          "base_uri": "https://localhost:8080/"
        },
        "id": "PhPboQYgapns",
        "outputId": "c98289e3-ead3-4aba-815c-60ffd3fed051"
      },
      "execution_count": 6,
      "outputs": [
        {
          "output_type": "stream",
          "name": "stdout",
          "text": [
            "['GALAXY' 'QSO' 'STAR']\n"
          ]
        }
      ]
    },
    {
      "cell_type": "markdown",
      "source": [
        "# Por cuentiones de practica necesitamos que tenga solo 2 valores diferentes:\n",
        " se reemplaza los valores **\"STAR\" por \"GALAXY\"**"
      ],
      "metadata": {
        "id": "xaI5lMi1Rwr9"
      }
    },
    {
      "cell_type": "code",
      "source": [
        "# Cambiar los valores de \"star\" a \"galaxia\" en la variable Y\n",
        "data = data.replace('STAR', 'GALAXY')"
      ],
      "metadata": {
        "id": "Z3sKmYYqd7wM"
      },
      "execution_count": 7,
      "outputs": []
    },
    {
      "cell_type": "code",
      "source": [
        "# revisamos otra vez\n",
        "data['class'].unique()"
      ],
      "metadata": {
        "colab": {
          "base_uri": "https://localhost:8080/"
        },
        "id": "GPNNCy4dhMRE",
        "outputId": "512a141e-e849-4607-bc61-30a492b3cb4a"
      },
      "execution_count": 8,
      "outputs": [
        {
          "output_type": "execute_result",
          "data": {
            "text/plain": [
              "array(['GALAXY', 'QSO'], dtype=object)"
            ]
          },
          "metadata": {},
          "execution_count": 8
        }
      ]
    },
    {
      "cell_type": "markdown",
      "source": [
        "Combertimos los valores a binario\n"
      ],
      "metadata": {
        "id": "RoxinTt7SQxD"
      }
    },
    {
      "cell_type": "code",
      "source": [
        "# Convertir los valores de la variable Y a valores binarios\n",
        "data['class'] = data['class'].replace({'GALAXY': 1, 'QSO': 0})\n",
        "# Mostrar solo la cloumna \"class\"\n",
        "print(data['class'])"
      ],
      "metadata": {
        "id": "MeEuu_PHjmZc",
        "colab": {
          "base_uri": "https://localhost:8080/"
        },
        "outputId": "87c8c9fc-eb64-46b5-f018-7bc60e1311ca"
      },
      "execution_count": 9,
      "outputs": [
        {
          "output_type": "stream",
          "name": "stdout",
          "text": [
            "0        1\n",
            "1        1\n",
            "2        1\n",
            "3        1\n",
            "4        1\n",
            "        ..\n",
            "99995    1\n",
            "99996    1\n",
            "99997    1\n",
            "99998    1\n",
            "99999    1\n",
            "Name: class, Length: 100000, dtype: int64\n"
          ]
        }
      ]
    },
    {
      "cell_type": "markdown",
      "source": [
        "1 = GALAXIA   \n",
        "       \n",
        "0 = QSO"
      ],
      "metadata": {
        "id": "xt4vqgTFs6wh"
      }
    },
    {
      "cell_type": "markdown",
      "source": [
        "Verificamos que todos los valores de \"data\" sean entero o real"
      ],
      "metadata": {
        "id": "dIkMw9OQSkvG"
      }
    },
    {
      "cell_type": "code",
      "source": [
        "data.info()"
      ],
      "metadata": {
        "colab": {
          "base_uri": "https://localhost:8080/"
        },
        "id": "z5fLrYLBjrVU",
        "outputId": "9e319ee0-0e32-44f9-d7ac-26df776e0c04"
      },
      "execution_count": 10,
      "outputs": [
        {
          "output_type": "stream",
          "name": "stdout",
          "text": [
            "<class 'pandas.core.frame.DataFrame'>\n",
            "RangeIndex: 100000 entries, 0 to 99999\n",
            "Data columns (total 18 columns):\n",
            " #   Column       Non-Null Count   Dtype  \n",
            "---  ------       --------------   -----  \n",
            " 0   obj_ID       100000 non-null  float64\n",
            " 1   alpha        100000 non-null  float64\n",
            " 2   delta        100000 non-null  float64\n",
            " 3   u            100000 non-null  float64\n",
            " 4   g            100000 non-null  float64\n",
            " 5   r            100000 non-null  float64\n",
            " 6   i            100000 non-null  float64\n",
            " 7   z            100000 non-null  float64\n",
            " 8   run_ID       100000 non-null  int64  \n",
            " 9   rerun_ID     100000 non-null  int64  \n",
            " 10  cam_col      100000 non-null  int64  \n",
            " 11  field_ID     100000 non-null  int64  \n",
            " 12  spec_obj_ID  100000 non-null  float64\n",
            " 13  class        100000 non-null  int64  \n",
            " 14  redshift     100000 non-null  float64\n",
            " 15  plate        100000 non-null  int64  \n",
            " 16  MJD          100000 non-null  int64  \n",
            " 17  fiber_ID     100000 non-null  int64  \n",
            "dtypes: float64(10), int64(8)\n",
            "memory usage: 13.7 MB\n"
          ]
        }
      ]
    },
    {
      "cell_type": "markdown",
      "source": [
        "Separamos los datos- Caracteristicas \"**X**\" y  Variable objetivo \"**y**\" para usarlo mas adelante"
      ],
      "metadata": {
        "id": "EPU2aCW4TKt9"
      }
    },
    {
      "cell_type": "code",
      "source": [
        "# Extrae la columna 'class' y la asigna a la variable y\n",
        "y = data['class'].values\n",
        "# Elimina la columna 'class' de la matriz X\n",
        "X = data.drop(columns=['class']).values"
      ],
      "metadata": {
        "id": "VXtrRXyo2RlF"
      },
      "execution_count": 11,
      "outputs": []
    },
    {
      "cell_type": "code",
      "source": [
        "print('Valores de Categorias: \\n',X)\n",
        "print('_' * 50)\n",
        "print(f'este es mi var objetivo: \\n',y)"
      ],
      "metadata": {
        "colab": {
          "base_uri": "https://localhost:8080/"
        },
        "id": "VHgEDurP2Yx9",
        "outputId": "5aaebff6-740c-426f-f475-f93d76acbf68"
      },
      "execution_count": 12,
      "outputs": [
        {
          "output_type": "stream",
          "name": "stdout",
          "text": [
            "Valores de Categorias: \n",
            " [[1.23766096e+18 1.35689107e+02 3.24946318e+01 ... 5.81200000e+03\n",
            "  5.63540000e+04 1.71000000e+02]\n",
            " [1.23766488e+18 1.44826101e+02 3.12741849e+01 ... 1.04450000e+04\n",
            "  5.81580000e+04 4.27000000e+02]\n",
            " [1.23766096e+18 1.42188790e+02 3.55824442e+01 ... 4.57600000e+03\n",
            "  5.55920000e+04 2.99000000e+02]\n",
            " ...\n",
            " [1.23766830e+18 2.24587407e+02 1.57007074e+01 ... 2.76400000e+03\n",
            "  5.45350000e+04 7.40000000e+01]\n",
            " [1.23766115e+18 2.12268621e+02 4.66603653e+01 ... 6.75100000e+03\n",
            "  5.63680000e+04 4.70000000e+02]\n",
            " [1.23766115e+18 1.96896053e+02 4.94646428e+01 ... 7.41000000e+03\n",
            "  5.71040000e+04 8.51000000e+02]]\n",
            "__________________________________________________\n",
            "este es mi var objetivo: \n",
            " [1 1 1 ... 1 1 1]\n"
          ]
        }
      ]
    },
    {
      "cell_type": "markdown",
      "source": [
        "Verificar si hay valores nulos o vacios"
      ],
      "metadata": {
        "id": "8boaPqM86Mik"
      }
    },
    {
      "cell_type": "code",
      "source": [
        "# Verificar si hay valores vacíos o nulos en la variable X\n",
        "valores_nulos_X = np.isnan(X).sum()\n",
        "valores_nulos_y = np.isnan(y).sum()\n",
        "\n",
        "print('nulos en X:\\n',valores_nulos_X)\n",
        "print('nulos en y:\\n',valores_nulos_y)\n"
      ],
      "metadata": {
        "colab": {
          "base_uri": "https://localhost:8080/"
        },
        "id": "vIYtflgWlIjN",
        "outputId": "178f7415-fccc-4901-cbbe-15cdd6a354f8"
      },
      "execution_count": 13,
      "outputs": [
        {
          "output_type": "stream",
          "name": "stdout",
          "text": [
            "nulos en X:\n",
            " 0\n",
            "nulos en y:\n",
            " 0\n"
          ]
        }
      ]
    },
    {
      "cell_type": "markdown",
      "source": [
        "## **Calaculos**\n"
      ],
      "metadata": {
        "id": "_-q4GQWoi_7j"
      }
    },
    {
      "cell_type": "markdown",
      "source": [
        "# Funcion de la Sigmoide"
      ],
      "metadata": {
        "id": "OWhh_aDYC9l-"
      }
    },
    {
      "cell_type": "code",
      "source": [
        "def calcularSigmoide(z):\n",
        "    # Calcula la sigmoide de una entrada z\n",
        "    # convierte la intrada a un arreglo numpy\n",
        "    z = np.array(z)\n",
        "\n",
        "    g = np.zeros(z.shape)\n",
        "\n",
        "    g = 1 / (1 + np.exp(-z))\n",
        "\n",
        "    return g"
      ],
      "metadata": {
        "id": "sKUQZFfKi_pk"
      },
      "execution_count": 14,
      "outputs": []
    },
    {
      "cell_type": "code",
      "source": [
        "# Prueba la implementacion de la funcion sigmoid\n",
        "z = [0, 0.5, 1]\n",
        "g = calcularSigmoide(z)\n",
        "\n",
        "print('g(', z, ') = ', g)"
      ],
      "metadata": {
        "colab": {
          "base_uri": "https://localhost:8080/"
        },
        "id": "FuQZsssslbc8",
        "outputId": "e003ff09-4400-44c3-97aa-6385f39ac7cd"
      },
      "execution_count": 15,
      "outputs": [
        {
          "output_type": "stream",
          "name": "stdout",
          "text": [
            "g( [0, 0.5, 1] ) =  [0.5        0.62245933 0.73105858]\n"
          ]
        }
      ]
    },
    {
      "cell_type": "markdown",
      "source": [
        "# Funcion Costo Gradiente"
      ],
      "metadata": {
        "id": "n0AbKEZxmAbL"
      }
    },
    {
      "cell_type": "markdown",
      "source": [
        "agregamos la una primera columna de unos"
      ],
      "metadata": {
        "id": "j_moEM7gU7ld"
      }
    },
    {
      "cell_type": "code",
      "source": [
        "# Configurar la matriz adecuadamente, y agregar una columna de unos que corresponde al termino de intercepción.\n",
        "m, n = X.shape\n",
        "# Agraga el termino de intercepción a A\n",
        "X = np.concatenate([np.ones((m, 1)), X], axis=1)"
      ],
      "metadata": {
        "id": "oB-3TVNJllpc"
      },
      "execution_count": 16,
      "outputs": []
    },
    {
      "cell_type": "code",
      "source": [
        "#Revisamos\n",
        "X"
      ],
      "metadata": {
        "colab": {
          "base_uri": "https://localhost:8080/"
        },
        "outputId": "b5bf2a1e-9ca1-4688-c537-51eab1cf9bdf",
        "id": "K3vbWK-79vlB"
      },
      "execution_count": 17,
      "outputs": [
        {
          "output_type": "execute_result",
          "data": {
            "text/plain": [
              "array([[1.00000000e+00, 1.23766096e+18, 1.35689107e+02, ...,\n",
              "        5.81200000e+03, 5.63540000e+04, 1.71000000e+02],\n",
              "       [1.00000000e+00, 1.23766488e+18, 1.44826101e+02, ...,\n",
              "        1.04450000e+04, 5.81580000e+04, 4.27000000e+02],\n",
              "       [1.00000000e+00, 1.23766096e+18, 1.42188790e+02, ...,\n",
              "        4.57600000e+03, 5.55920000e+04, 2.99000000e+02],\n",
              "       ...,\n",
              "       [1.00000000e+00, 1.23766830e+18, 2.24587407e+02, ...,\n",
              "        2.76400000e+03, 5.45350000e+04, 7.40000000e+01],\n",
              "       [1.00000000e+00, 1.23766115e+18, 2.12268621e+02, ...,\n",
              "        6.75100000e+03, 5.63680000e+04, 4.70000000e+02],\n",
              "       [1.00000000e+00, 1.23766115e+18, 1.96896053e+02, ...,\n",
              "        7.41000000e+03, 5.71040000e+04, 8.51000000e+02]])"
            ]
          },
          "metadata": {},
          "execution_count": 17
        }
      ]
    },
    {
      "cell_type": "markdown",
      "source": [
        "## Normalizamos\n",
        "nota: siempre normalizar"
      ],
      "metadata": {
        "id": "ehvgG9s-U1eD"
      }
    },
    {
      "cell_type": "code",
      "source": [
        "from sklearn.preprocessing import StandardScaler\n",
        "# Crea un objeto StandardScaler\n",
        "scaler = StandardScaler()\n",
        "# Ajusta y transforma toda la matriz de características\n",
        "X_norm = scaler.fit_transform(X)"
      ],
      "metadata": {
        "id": "D8t-hslbHHU3"
      },
      "execution_count": 18,
      "outputs": []
    },
    {
      "cell_type": "code",
      "source": [
        "# Revisamos\n",
        "X_norm"
      ],
      "metadata": {
        "colab": {
          "base_uri": "https://localhost:8080/"
        },
        "id": "H_ERQrwSHguW",
        "outputId": "eed73b5e-347f-4aed-f7f5-f74eb6421224"
      },
      "execution_count": 19,
      "outputs": [
        {
          "output_type": "execute_result",
          "data": {
            "text/plain": [
              "array([[ 0.        , -0.44563362, -0.43460358, ...,  0.22863291,\n",
              "         0.42320321, -1.02134224],\n",
              "       [ 0.        ,  0.01873981, -0.33992143, ...,  1.79792394,\n",
              "         1.42072864, -0.0818825 ],\n",
              "       [ 0.        , -0.4456333 , -0.36725058, ..., -0.19002535,\n",
              "         0.00185377, -0.55161237],\n",
              "       ...,\n",
              "       [ 0.        ,  0.42381919,  0.48660555, ..., -0.80378648,\n",
              "        -0.58261651, -1.37730941],\n",
              "       [ 0.        , -0.42311121,  0.35895206, ...,  0.54669125,\n",
              "         0.43094454,  0.07591737],\n",
              "       [ 0.        , -0.42311176,  0.19965373, ...,  0.76990791,\n",
              "         0.83791722,  1.47409769]])"
            ]
          },
          "metadata": {},
          "execution_count": 19
        }
      ]
    },
    {
      "cell_type": "markdown",
      "source": [
        "# Funcion de costo en una regresion logistica"
      ],
      "metadata": {
        "id": "risrzBakmjD9"
      }
    },
    {
      "cell_type": "code",
      "source": [
        "def calcularCosto(theta, X, y,lambda_):\n",
        "    # Inicializar algunos valores utiles\n",
        "    m = y.size  # numero de ejemplos de entrenamiento\n",
        "\n",
        "    J = 0\n",
        "    h = calcularSigmoide(X.dot(theta.T))\n",
        "    #J = (1 / m) * np.sum(-y.dot(np.log(h)) - (1 - y).dot(np.log(1 - h)))\n",
        "    ## Ecuacion Regularizada\n",
        "    J = (1/(2 * m)) * np.sum(np.square(np.dot(X, theta) - y))+ (lambda_ / (2 * m)) * np.sum(np.square(theta[1:]))\n",
        "\n",
        "    return J"
      ],
      "metadata": {
        "id": "EwW6mGT2mio1"
      },
      "execution_count": 20,
      "outputs": []
    },
    {
      "cell_type": "markdown",
      "source": [
        "# Funcion de Descenso por el Gradiente"
      ],
      "metadata": {
        "id": "RvKq37NN3qDj"
      }
    },
    {
      "cell_type": "markdown",
      "source": [
        "La REGULARIZACION SOLO CAMBIA LA FUNCION DE COSTO"
      ],
      "metadata": {
        "id": "5gzQTB4fMy4A"
      }
    },
    {
      "cell_type": "code",
      "source": [
        "def descensoGradiente(theta, X, y, alpha, num_iters, lambda_):\n",
        "    # Inicializa algunos valores\n",
        "    m = y.shape[0] # numero de ejemplos de entrenamiento\n",
        "\n",
        "    # realiza una copia de theta, el cual será acutalizada por el descenso por el gradiente\n",
        "    theta = theta.copy()\n",
        "    J_history = []\n",
        "\n",
        "    for i in range(num_iters):\n",
        "        h = calcularSigmoide(X.dot(theta.T))\n",
        "        theta = theta - (alpha / m) * (h - y).dot(X)\n",
        "        theta[1:] += (lambda_ / m) * theta[1:]\n",
        "        J_history.append(calcularCosto(theta, X, y, lambda_))\n",
        "\n",
        "    return theta, J_history"
      ],
      "metadata": {
        "id": "Keb5BYoMmYDk"
      },
      "execution_count": 21,
      "outputs": []
    },
    {
      "cell_type": "markdown",
      "source": [
        "# Funcion para calcular la precision de las predicciones"
      ],
      "metadata": {
        "id": "L5hJvvbYVWC1"
      }
    },
    {
      "cell_type": "code",
      "source": [
        "def calcularPrecision(predictions, labels):\n",
        "    # Convertir predicciones a etiquetas binarias (0 o 1)\n",
        "    predictions_binary = (predictions >= 0.5).astype(int)\n",
        "\n",
        "    # Calcular la precisión\n",
        "    correct_predictions = np.sum(predictions_binary == labels)\n",
        "    total_examples = len(labels)\n",
        "    precision = correct_predictions / total_examples\n",
        "\n",
        "    return precision"
      ],
      "metadata": {
        "id": "htJttbCJ_dMH"
      },
      "execution_count": 22,
      "outputs": []
    },
    {
      "cell_type": "markdown",
      "source": [
        "Separar el 80% de los datos para entrenamiento y el 20% para hacer las pruebas"
      ],
      "metadata": {
        "id": "ykofJR_zpAFe"
      }
    },
    {
      "cell_type": "code",
      "source": [
        "from sklearn.model_selection import train_test_split\n",
        "# Dividir los datos en conjuntos de entrenamiento y prueba (80% entrenamiento, 20% prueba)\n",
        "X_train, X_test, y_train, y_test = train_test_split(X_norm, y, test_size=0.2, random_state=42)"
      ],
      "metadata": {
        "id": "8xGQDM2YVkxl"
      },
      "execution_count": 23,
      "outputs": []
    },
    {
      "cell_type": "markdown",
      "source": [
        "# Configuracion de Hiperparametros para el entrenamiento del Modelo"
      ],
      "metadata": {
        "id": "p2g_mvFNVoXs"
      }
    },
    {
      "cell_type": "code",
      "source": [
        "# Configurar hiperparámetros y realizar descenso por el gradiente en el conjunto de entrenamiento\n",
        "alpha = 0.25\n",
        "num_iters = 500       #con 500 iteraciones ya tenemos una buena convergencia\n",
        "lambda_= 0.1\n",
        "theta = np.zeros(18)\n",
        "theta, J_history = descensoGradiente(theta, X_train, y_train, alpha, num_iters, lambda_)\n",
        "\n",
        "# Muestra los resultados del descenso por el gradiente\n",
        "print('theta calculado por el descenso por el gradiente: \\n',(theta))\n",
        "\n",
        "\n",
        "# Graficar la convergencia del costo en el conjunto de entrenamiento\n",
        "pyplot.plot(np.arange(len(J_history)), (J_history), lw=2)\n",
        "\n",
        "pyplot.xlabel('Número de iteraciones')\n",
        "pyplot.ylabel('Costo J')\n",
        "pyplot.title('Convergencia del costo en el conjunto de entrenamiento')\n",
        "pyplot.show()\n",
        "\n"
      ],
      "metadata": {
        "id": "6yWTbVYCmzys",
        "colab": {
          "base_uri": "https://localhost:8080/",
          "height": 576
        },
        "outputId": "29d80a83-1e8c-4932-b862-9cb54c83afc0"
      },
      "execution_count": 24,
      "outputs": [
        {
          "output_type": "stream",
          "name": "stdout",
          "text": [
            "theta calculado por el descenso por el gradiente: \n",
            " [ 0.00000000e+00 -1.28183011e-03 -4.70571309e-02 -9.82725093e-02\n",
            "  3.06093728e-01  1.28216578e-01  1.97623238e+00 -1.03678154e+00\n",
            " -4.23756836e-01 -1.28040287e-03  0.00000000e+00 -1.41769143e-02\n",
            "  8.10104283e-03  4.35762479e-02 -5.10679656e+00  4.35758252e-02\n",
            "  2.39358533e-01  2.91913281e-02]\n"
          ]
        },
        {
          "output_type": "display_data",
          "data": {
            "text/plain": [
              "<Figure size 640x480 with 1 Axes>"
            ],
            "image/png": "[encoded data removed]"
          },
          "metadata": {}
        }
      ]
    },
    {
      "cell_type": "code",
      "source": [
        "#Revisamos las dimensiones de X_normalizada\n",
        "print(X_norm.shape)"
      ],
      "metadata": {
        "colab": {
          "base_uri": "https://localhost:8080/"
        },
        "id": "oYYEJE3ApPtg",
        "outputId": "c4591927-3e11-42c2-f878-3dc71d7a18ce"
      },
      "execution_count": 25,
      "outputs": [
        {
          "output_type": "stream",
          "name": "stdout",
          "text": [
            "(100000, 18)\n"
          ]
        }
      ]
    },
    {
      "cell_type": "code",
      "source": [
        "#Revisamos las dimensiones de Theta\n",
        "tita = pd.DataFrame(theta)\n",
        "print(tita.shape)"
      ],
      "metadata": {
        "colab": {
          "base_uri": "https://localhost:8080/"
        },
        "id": "oqcK_MR218WR",
        "outputId": "f2189b33-88ad-46b5-f9c5-3f59d166fd55"
      },
      "execution_count": 26,
      "outputs": [
        {
          "output_type": "stream",
          "name": "stdout",
          "text": [
            "(18, 1)\n"
          ]
        }
      ]
    },
    {
      "cell_type": "markdown",
      "source": [
        "Y por ultimo Hacemos las predicciones con el otro 20% de datos faltantes para la evaluacion del Modelo"
      ],
      "metadata": {
        "id": "eqnp7sUsWGT1"
      }
    },
    {
      "cell_type": "code",
      "source": [
        "# Realizar predicciones en el conjunto de prueba\n",
        "y_predicha = calcularSigmoide(np.dot(X_test, theta))\n",
        "\n",
        "# Calcular la precisión utilizando la función calcularPrecision\n",
        "precision_test = calcularPrecision(y_predicha, y_test)\n",
        "\n",
        "# Contar el número total de predicciones correctas\n",
        "total_correct_predictions = np.sum((y_predicha >= 0.5).astype(int) == y_test)\n",
        "total_incorrect_predictions = np.sum((y_predicha < 0.5).astype(int) == y_test)\n",
        "\n",
        "# Imprimir resultados de las pruebas en el conjunto de prueba\n",
        "print('Resultados en el conjunto de prueba:')\n",
        "print(f'Número total de predicciones correctas: {total_correct_predictions}')\n",
        "print(f'Número total de predicciones incorrectas: {total_incorrect_predictions}')\n",
        "print(f'Porcentaje de precisión: {precision_test:.2%}')\n"
      ],
      "metadata": {
        "colab": {
          "base_uri": "https://localhost:8080/"
        },
        "id": "34tfoOmB0XCw",
        "outputId": "ecdeab44-603e-4c2e-8fad-179912ff02b9"
      },
      "execution_count": 27,
      "outputs": [
        {
          "output_type": "stream",
          "name": "stdout",
          "text": [
            "Resultados en el conjunto de prueba:\n",
            "Número total de predicciones correctas: 18777\n",
            "Número total de predicciones incorrectas: 1223\n",
            "Porcentaje de precisión: 93.88%\n"
          ]
        }
      ]
    },
    {
      "cell_type": "markdown",
      "source": [],
      "metadata": {
        "id": "H3yRPZLlNWQS"
      }
    }
  ]
}