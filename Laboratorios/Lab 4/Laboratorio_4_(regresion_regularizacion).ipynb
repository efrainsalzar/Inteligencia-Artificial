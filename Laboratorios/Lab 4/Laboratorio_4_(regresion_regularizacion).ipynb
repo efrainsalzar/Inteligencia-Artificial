{
  "nbformat": 4,
  "nbformat_minor": 0,
  "metadata": {
    "colab": {
      "provenance": []
    },
    "kernelspec": {
      "name": "python3",
      "display_name": "Python 3"
    },
    "language_info": {
      "name": "python"
    }
  },
  "cells": [
    {
      "cell_type": "markdown",
      "source": [
        "# monitoreo de la Nivel calidad del agua, interpretar y utilizar eficazmente la información recopilada en sus actividades de gestión."
      ],
      "metadata": {
        "id": "Cw_B9y0Cc4XO"
      }
    },
    {
      "cell_type": "code",
      "execution_count": 1,
      "metadata": {
        "id": "RHG2it3_IHtb"
      },
      "outputs": [],
      "source": [
        "# utilizado para manejos de directorios y rutas\n",
        "import os\n",
        "\n",
        "# Computacion vectorial y cientifica para python\n",
        "import numpy as np\n",
        "\n",
        "# Librerias para graficación (trazado de gráficos)\n",
        "from matplotlib import pyplot\n",
        "from mpl_toolkits.mplot3d import Axes3D  # Necesario para graficar superficies 3D\n",
        "\n",
        "# llama a matplotlib a embeber graficas dentro de los cuadernillos\n",
        "%matplotlib inline"
      ]
    },
    {
      "cell_type": "code",
      "source": [
        "# Librerias\n",
        "import pandas as pd\n",
        "from sklearn.preprocessing import LabelEncoder\n",
        "from datetime import datetime"
      ],
      "metadata": {
        "id": "Ri4PwXJiJAyh"
      },
      "execution_count": 2,
      "outputs": []
    },
    {
      "cell_type": "code",
      "source": [
        "#Carga de dataset\n",
        "data = pd.read_csv('/content/drive/MyDrive/Inteligecia Artificial l/Laboratorio 1/sandy_ck_homebush_joined.csv')"
      ],
      "metadata": {
        "id": "eXbOeiEIJCjQ"
      },
      "execution_count": 3,
      "outputs": []
    },
    {
      "cell_type": "code",
      "source": [
        "#ver el dataset\n",
        "print(data)"
      ],
      "metadata": {
        "colab": {
          "base_uri": "https://localhost:8080/"
        },
        "id": "mDmaiZ3KJEsB",
        "outputId": "b3aa4806-d83d-40bb-ad45-a5013e5c313a"
      },
      "execution_count": 4,
      "outputs": [
        {
          "output_type": "stream",
          "name": "stdout",
          "text": [
            "                 Timestamp  Conductivity  NO3   Q   Temp  Turbidity  Level  \\\n",
            "0      2016-12-05T18:00:00         486.0  NaN NaN  29.05        5.7  0.474   \n",
            "1      2016-12-05T19:00:00           NaN  NaN NaN    NaN        NaN  0.473   \n",
            "2      2016-12-05T20:00:00         485.0  NaN NaN  28.36        7.7  0.474   \n",
            "3      2016-12-05T21:00:00         485.0  NaN NaN  28.08        2.7  0.475   \n",
            "4      2016-12-05T22:00:00           NaN  NaN NaN    NaN        NaN  0.474   \n",
            "...                    ...           ...  ...  ..    ...        ...    ...   \n",
            "35827  2016-12-05T13:00:00           NaN  NaN NaN    NaN        NaN  0.461   \n",
            "35828  2016-12-05T14:00:00           NaN  NaN NaN    NaN        NaN  0.462   \n",
            "35829  2016-12-05T15:00:00           NaN  NaN NaN    NaN        NaN  0.462   \n",
            "35830  2016-12-05T16:00:00           NaN  NaN NaN    NaN        NaN  0.462   \n",
            "35831  2016-12-05T17:00:00           NaN  NaN NaN    NaN        NaN  0.473   \n",
            "\n",
            "       Dayofweek  Month  \n",
            "0              0     12  \n",
            "1              0     12  \n",
            "2              0     12  \n",
            "3              0     12  \n",
            "4              0     12  \n",
            "...          ...    ...  \n",
            "35827          0     12  \n",
            "35828          0     12  \n",
            "35829          0     12  \n",
            "35830          0     12  \n",
            "35831          0     12  \n",
            "\n",
            "[35832 rows x 9 columns]\n"
          ]
        }
      ]
    },
    {
      "cell_type": "code",
      "source": [
        "# informacion de los tipos de valores\n",
        "data.info()"
      ],
      "metadata": {
        "colab": {
          "base_uri": "https://localhost:8080/"
        },
        "id": "VD6i8u94JcUh",
        "outputId": "29d83161-6548-4c06-abd1-aca945842ced"
      },
      "execution_count": 5,
      "outputs": [
        {
          "output_type": "stream",
          "name": "stdout",
          "text": [
            "<class 'pandas.core.frame.DataFrame'>\n",
            "RangeIndex: 35832 entries, 0 to 35831\n",
            "Data columns (total 9 columns):\n",
            " #   Column        Non-Null Count  Dtype  \n",
            "---  ------        --------------  -----  \n",
            " 0   Timestamp     35832 non-null  object \n",
            " 1   Conductivity  21787 non-null  float64\n",
            " 2   NO3           12426 non-null  float64\n",
            " 3   Q             15592 non-null  float64\n",
            " 4   Temp          21787 non-null  float64\n",
            " 5   Turbidity     21787 non-null  float64\n",
            " 6   Level         35752 non-null  float64\n",
            " 7   Dayofweek     35832 non-null  int64  \n",
            " 8   Month         35832 non-null  int64  \n",
            "dtypes: float64(6), int64(2), object(1)\n",
            "memory usage: 2.5+ MB\n"
          ]
        }
      ]
    },
    {
      "cell_type": "code",
      "source": [
        "# Extracción de la fecha y conversión a formato de fecha\n",
        "data['Timestamp'] = pd.to_datetime(data['Timestamp'].str.split('T').str[0], format='%Y-%m-%d')\n",
        "\n",
        "# Mostrar el conjunto de datos resultante\n",
        "print(data)"
      ],
      "metadata": {
        "colab": {
          "base_uri": "https://localhost:8080/"
        },
        "id": "DvwNHthnMh7x",
        "outputId": "c6ea7e94-be12-4086-ec57-17cdcbf7db64"
      },
      "execution_count": 6,
      "outputs": [
        {
          "output_type": "stream",
          "name": "stdout",
          "text": [
            "       Timestamp  Conductivity  NO3   Q   Temp  Turbidity  Level  Dayofweek  \\\n",
            "0     2016-12-05         486.0  NaN NaN  29.05        5.7  0.474          0   \n",
            "1     2016-12-05           NaN  NaN NaN    NaN        NaN  0.473          0   \n",
            "2     2016-12-05         485.0  NaN NaN  28.36        7.7  0.474          0   \n",
            "3     2016-12-05         485.0  NaN NaN  28.08        2.7  0.475          0   \n",
            "4     2016-12-05           NaN  NaN NaN    NaN        NaN  0.474          0   \n",
            "...          ...           ...  ...  ..    ...        ...    ...        ...   \n",
            "35827 2016-12-05           NaN  NaN NaN    NaN        NaN  0.461          0   \n",
            "35828 2016-12-05           NaN  NaN NaN    NaN        NaN  0.462          0   \n",
            "35829 2016-12-05           NaN  NaN NaN    NaN        NaN  0.462          0   \n",
            "35830 2016-12-05           NaN  NaN NaN    NaN        NaN  0.462          0   \n",
            "35831 2016-12-05           NaN  NaN NaN    NaN        NaN  0.473          0   \n",
            "\n",
            "       Month  \n",
            "0         12  \n",
            "1         12  \n",
            "2         12  \n",
            "3         12  \n",
            "4         12  \n",
            "...      ...  \n",
            "35827     12  \n",
            "35828     12  \n",
            "35829     12  \n",
            "35830     12  \n",
            "35831     12  \n",
            "\n",
            "[35832 rows x 9 columns]\n"
          ]
        }
      ]
    },
    {
      "cell_type": "code",
      "source": [
        "# informacion de los tipos de valores\n",
        "data.info()"
      ],
      "metadata": {
        "colab": {
          "base_uri": "https://localhost:8080/"
        },
        "id": "jjVngZAtMkzp",
        "outputId": "3e94b52b-1aa8-46fb-85e3-76995f3fbcd3"
      },
      "execution_count": 7,
      "outputs": [
        {
          "output_type": "stream",
          "name": "stdout",
          "text": [
            "<class 'pandas.core.frame.DataFrame'>\n",
            "RangeIndex: 35832 entries, 0 to 35831\n",
            "Data columns (total 9 columns):\n",
            " #   Column        Non-Null Count  Dtype         \n",
            "---  ------        --------------  -----         \n",
            " 0   Timestamp     35832 non-null  datetime64[ns]\n",
            " 1   Conductivity  21787 non-null  float64       \n",
            " 2   NO3           12426 non-null  float64       \n",
            " 3   Q             15592 non-null  float64       \n",
            " 4   Temp          21787 non-null  float64       \n",
            " 5   Turbidity     21787 non-null  float64       \n",
            " 6   Level         35752 non-null  float64       \n",
            " 7   Dayofweek     35832 non-null  int64         \n",
            " 8   Month         35832 non-null  int64         \n",
            "dtypes: datetime64[ns](1), float64(6), int64(2)\n",
            "memory usage: 2.5 MB\n"
          ]
        }
      ]
    },
    {
      "cell_type": "code",
      "source": [
        "#Mover la columna objetivo al final\n",
        "columna_objetivo = 'Level'\n",
        "\n",
        "# Obtén una lista de todas las columnas en el orden actual\n",
        "columnas_ordenadas = list(data.columns)\n",
        "\n",
        "# Mueve la columna objetivo al final\n",
        "columnas_ordenadas.remove(columna_objetivo)  # Elimina la columna objetivo de su posición actual\n",
        "columnas_ordenadas.append(columna_objetivo)  # Añade la columna objetivo al final de la lista\n",
        "\n",
        "# Reorganiza el DataFrame con el nuevo orden de columnas\n",
        "data = data[columnas_ordenadas]\n"
      ],
      "metadata": {
        "id": "00bNJ6khMzK5"
      },
      "execution_count": 8,
      "outputs": []
    },
    {
      "cell_type": "code",
      "source": [
        "\n",
        "print(data)"
      ],
      "metadata": {
        "colab": {
          "base_uri": "https://localhost:8080/"
        },
        "id": "X7dLl7M-NUHB",
        "outputId": "a6dc66e8-c0ba-461f-9452-2feb23841e51"
      },
      "execution_count": 9,
      "outputs": [
        {
          "output_type": "stream",
          "name": "stdout",
          "text": [
            "       Timestamp  Conductivity  NO3   Q   Temp  Turbidity  Dayofweek  Month  \\\n",
            "0     2016-12-05         486.0  NaN NaN  29.05        5.7          0     12   \n",
            "1     2016-12-05           NaN  NaN NaN    NaN        NaN          0     12   \n",
            "2     2016-12-05         485.0  NaN NaN  28.36        7.7          0     12   \n",
            "3     2016-12-05         485.0  NaN NaN  28.08        2.7          0     12   \n",
            "4     2016-12-05           NaN  NaN NaN    NaN        NaN          0     12   \n",
            "...          ...           ...  ...  ..    ...        ...        ...    ...   \n",
            "35827 2016-12-05           NaN  NaN NaN    NaN        NaN          0     12   \n",
            "35828 2016-12-05           NaN  NaN NaN    NaN        NaN          0     12   \n",
            "35829 2016-12-05           NaN  NaN NaN    NaN        NaN          0     12   \n",
            "35830 2016-12-05           NaN  NaN NaN    NaN        NaN          0     12   \n",
            "35831 2016-12-05           NaN  NaN NaN    NaN        NaN          0     12   \n",
            "\n",
            "       Level  \n",
            "0      0.474  \n",
            "1      0.473  \n",
            "2      0.474  \n",
            "3      0.475  \n",
            "4      0.474  \n",
            "...      ...  \n",
            "35827  0.461  \n",
            "35828  0.462  \n",
            "35829  0.462  \n",
            "35830  0.462  \n",
            "35831  0.473  \n",
            "\n",
            "[35832 rows x 9 columns]\n"
          ]
        }
      ]
    },
    {
      "cell_type": "code",
      "source": [
        "#variables categoricas\n",
        "columnas_categoricas = data.select_dtypes(include=['object']).columns\n",
        "#variables fechas\n",
        "columnas_fechas = data.select_dtypes(include=['datetime64']).columns"
      ],
      "metadata": {
        "id": "E1PxH_acNlO5"
      },
      "execution_count": 10,
      "outputs": []
    },
    {
      "cell_type": "code",
      "source": [
        "#Procesamiento de frases o palabras\n",
        "for columna in columnas_categoricas:\n",
        "  le = LabelEncoder()\n",
        "  data[columna] = le.fit_transform(data[columna])"
      ],
      "metadata": {
        "id": "EtRTbV99NzZa"
      },
      "execution_count": 11,
      "outputs": []
    },
    {
      "cell_type": "code",
      "source": [
        "#Fechas a numeros\n",
        "for columna in columnas_fechas:\n",
        "  data[columna] = pd.to_numeric(data[columna].map(datetime.timestamp))"
      ],
      "metadata": {
        "id": "FMun_jzKN2dh"
      },
      "execution_count": 12,
      "outputs": []
    },
    {
      "cell_type": "code",
      "source": [
        "#resultado\n",
        "print(data)"
      ],
      "metadata": {
        "colab": {
          "base_uri": "https://localhost:8080/"
        },
        "id": "jhs3O5MWN56p",
        "outputId": "1e5b75a6-e6b7-446b-8500-1f7a154a1634"
      },
      "execution_count": 13,
      "outputs": [
        {
          "output_type": "stream",
          "name": "stdout",
          "text": [
            "          Timestamp  Conductivity  NO3   Q   Temp  Turbidity  Dayofweek  \\\n",
            "0      1.480896e+09         486.0  NaN NaN  29.05        5.7          0   \n",
            "1      1.480896e+09           NaN  NaN NaN    NaN        NaN          0   \n",
            "2      1.480896e+09         485.0  NaN NaN  28.36        7.7          0   \n",
            "3      1.480896e+09         485.0  NaN NaN  28.08        2.7          0   \n",
            "4      1.480896e+09           NaN  NaN NaN    NaN        NaN          0   \n",
            "...             ...           ...  ...  ..    ...        ...        ...   \n",
            "35827  1.480896e+09           NaN  NaN NaN    NaN        NaN          0   \n",
            "35828  1.480896e+09           NaN  NaN NaN    NaN        NaN          0   \n",
            "35829  1.480896e+09           NaN  NaN NaN    NaN        NaN          0   \n",
            "35830  1.480896e+09           NaN  NaN NaN    NaN        NaN          0   \n",
            "35831  1.480896e+09           NaN  NaN NaN    NaN        NaN          0   \n",
            "\n",
            "       Month  Level  \n",
            "0         12  0.474  \n",
            "1         12  0.473  \n",
            "2         12  0.474  \n",
            "3         12  0.475  \n",
            "4         12  0.474  \n",
            "...      ...    ...  \n",
            "35827     12  0.461  \n",
            "35828     12  0.462  \n",
            "35829     12  0.462  \n",
            "35830     12  0.462  \n",
            "35831     12  0.473  \n",
            "\n",
            "[35832 rows x 9 columns]\n"
          ]
        }
      ]
    },
    {
      "cell_type": "code",
      "source": [
        "# informacion de los tipos de valores\n",
        "data.info()"
      ],
      "metadata": {
        "colab": {
          "base_uri": "https://localhost:8080/"
        },
        "id": "o_hlWfQOOBnJ",
        "outputId": "b464908e-7117-4578-a374-1b3687617bba"
      },
      "execution_count": 14,
      "outputs": [
        {
          "output_type": "stream",
          "name": "stdout",
          "text": [
            "<class 'pandas.core.frame.DataFrame'>\n",
            "RangeIndex: 35832 entries, 0 to 35831\n",
            "Data columns (total 9 columns):\n",
            " #   Column        Non-Null Count  Dtype  \n",
            "---  ------        --------------  -----  \n",
            " 0   Timestamp     35832 non-null  float64\n",
            " 1   Conductivity  21787 non-null  float64\n",
            " 2   NO3           12426 non-null  float64\n",
            " 3   Q             15592 non-null  float64\n",
            " 4   Temp          21787 non-null  float64\n",
            " 5   Turbidity     21787 non-null  float64\n",
            " 6   Dayofweek     35832 non-null  int64  \n",
            " 7   Month         35832 non-null  int64  \n",
            " 8   Level         35752 non-null  float64\n",
            "dtypes: float64(7), int64(2)\n",
            "memory usage: 2.5 MB\n"
          ]
        }
      ]
    },
    {
      "cell_type": "code",
      "source": [
        "#llenar datos vacios\n",
        "columnas_especificas = ['Conductivity', 'NO3','Q','Temp','Turbidity','Level']\n",
        "media_columnas = data[columnas_especificas].mean()\n",
        "data[columnas_especificas] = data[columnas_especificas].fillna(media_columnas)"
      ],
      "metadata": {
        "id": "HdjdhAP5OEvK"
      },
      "execution_count": 15,
      "outputs": []
    },
    {
      "cell_type": "code",
      "source": [
        "data.info()"
      ],
      "metadata": {
        "colab": {
          "base_uri": "https://localhost:8080/"
        },
        "id": "KHmyePDGOHcQ",
        "outputId": "5b19e490-9cd2-49f2-a1b3-354ea0b59834"
      },
      "execution_count": 16,
      "outputs": [
        {
          "output_type": "stream",
          "name": "stdout",
          "text": [
            "<class 'pandas.core.frame.DataFrame'>\n",
            "RangeIndex: 35832 entries, 0 to 35831\n",
            "Data columns (total 9 columns):\n",
            " #   Column        Non-Null Count  Dtype  \n",
            "---  ------        --------------  -----  \n",
            " 0   Timestamp     35832 non-null  float64\n",
            " 1   Conductivity  35832 non-null  float64\n",
            " 2   NO3           35832 non-null  float64\n",
            " 3   Q             35832 non-null  float64\n",
            " 4   Temp          35832 non-null  float64\n",
            " 5   Turbidity     35832 non-null  float64\n",
            " 6   Dayofweek     35832 non-null  int64  \n",
            " 7   Month         35832 non-null  int64  \n",
            " 8   Level         35832 non-null  float64\n",
            "dtypes: float64(7), int64(2)\n",
            "memory usage: 2.5 MB\n"
          ]
        }
      ]
    },
    {
      "cell_type": "code",
      "source": [
        "# Lectura de Datos\n",
        "X = data.iloc[:, :8]\n",
        "y = data.iloc[:, 8]\n",
        "m = y.size"
      ],
      "metadata": {
        "id": "ZoIEkeXLPJgq"
      },
      "execution_count": 17,
      "outputs": []
    },
    {
      "cell_type": "code",
      "source": [
        "print(X)\n",
        "print('Columna Objetivo  -  '*3)\n",
        "print(y)"
      ],
      "metadata": {
        "colab": {
          "base_uri": "https://localhost:8080/"
        },
        "id": "yuhe5uCZPW-K",
        "outputId": "703bf03a-0b0b-4409-bf09-ca1d9f685885"
      },
      "execution_count": 18,
      "outputs": [
        {
          "output_type": "stream",
          "name": "stdout",
          "text": [
            "          Timestamp  Conductivity       NO3         Q       Temp  Turbidity  \\\n",
            "0      1.480896e+09    486.000000  0.437671  4.777473  29.050000   5.700000   \n",
            "1      1.480896e+09    502.039358  0.437671  4.777473  23.812395  13.873643   \n",
            "2      1.480896e+09    485.000000  0.437671  4.777473  28.360000   7.700000   \n",
            "3      1.480896e+09    485.000000  0.437671  4.777473  28.080000   2.700000   \n",
            "4      1.480896e+09    502.039358  0.437671  4.777473  23.812395  13.873643   \n",
            "...             ...           ...       ...       ...        ...        ...   \n",
            "35827  1.480896e+09    502.039358  0.437671  4.777473  23.812395  13.873643   \n",
            "35828  1.480896e+09    502.039358  0.437671  4.777473  23.812395  13.873643   \n",
            "35829  1.480896e+09    502.039358  0.437671  4.777473  23.812395  13.873643   \n",
            "35830  1.480896e+09    502.039358  0.437671  4.777473  23.812395  13.873643   \n",
            "35831  1.480896e+09    502.039358  0.437671  4.777473  23.812395  13.873643   \n",
            "\n",
            "       Dayofweek  Month  \n",
            "0              0     12  \n",
            "1              0     12  \n",
            "2              0     12  \n",
            "3              0     12  \n",
            "4              0     12  \n",
            "...          ...    ...  \n",
            "35827          0     12  \n",
            "35828          0     12  \n",
            "35829          0     12  \n",
            "35830          0     12  \n",
            "35831          0     12  \n",
            "\n",
            "[35832 rows x 8 columns]\n",
            "Columna Objetivo  -  Columna Objetivo  -  Columna Objetivo  -  \n",
            "0        0.474\n",
            "1        0.473\n",
            "2        0.474\n",
            "3        0.475\n",
            "4        0.474\n",
            "         ...  \n",
            "35827    0.461\n",
            "35828    0.462\n",
            "35829    0.462\n",
            "35830    0.462\n",
            "35831    0.473\n",
            "Name: Level, Length: 35832, dtype: float64\n"
          ]
        }
      ]
    },
    {
      "cell_type": "code",
      "source": [
        "# Normalizacion\n",
        "def  featureNormalize(X):\n",
        "    X_norm = X.copy()\n",
        "    mu = np.zeros(X.shape[1])\n",
        "    sigma = np.zeros(X.shape[1])\n",
        "\n",
        "    mu = np.mean(X, axis = 0)\n",
        "    sigma = np.std(X, axis = 0)\n",
        "    X_norm = (X - mu) / sigma\n",
        "\n",
        "    return X_norm, mu, sigma\n",
        "\n",
        "# Normaliza entre -0.5 y 0.5 (revisar) porque se dan valores negativos y postivos"
      ],
      "metadata": {
        "id": "Nz77tDt7PgxS"
      },
      "execution_count": 19,
      "outputs": []
    },
    {
      "cell_type": "code",
      "source": [
        "# llama featureNormalize con los datos cargados\n",
        "X_norm, mu, sigma = featureNormalize(X)\n",
        "\n",
        "print(X)\n",
        "print('Media calculada:', mu)\n",
        "print('Desviación estandar calculada:', sigma)\n",
        "print(X_norm)"
      ],
      "metadata": {
        "colab": {
          "base_uri": "https://localhost:8080/"
        },
        "id": "6Hk4-PBpPuQq",
        "outputId": "f8b47945-7614-4caa-d1e5-6ba90266b09c"
      },
      "execution_count": 20,
      "outputs": [
        {
          "output_type": "stream",
          "name": "stdout",
          "text": [
            "          Timestamp  Conductivity       NO3         Q       Temp  Turbidity  \\\n",
            "0      1.480896e+09    486.000000  0.437671  4.777473  29.050000   5.700000   \n",
            "1      1.480896e+09    502.039358  0.437671  4.777473  23.812395  13.873643   \n",
            "2      1.480896e+09    485.000000  0.437671  4.777473  28.360000   7.700000   \n",
            "3      1.480896e+09    485.000000  0.437671  4.777473  28.080000   2.700000   \n",
            "4      1.480896e+09    502.039358  0.437671  4.777473  23.812395  13.873643   \n",
            "...             ...           ...       ...       ...        ...        ...   \n",
            "35827  1.480896e+09    502.039358  0.437671  4.777473  23.812395  13.873643   \n",
            "35828  1.480896e+09    502.039358  0.437671  4.777473  23.812395  13.873643   \n",
            "35829  1.480896e+09    502.039358  0.437671  4.777473  23.812395  13.873643   \n",
            "35830  1.480896e+09    502.039358  0.437671  4.777473  23.812395  13.873643   \n",
            "35831  1.480896e+09    502.039358  0.437671  4.777473  23.812395  13.873643   \n",
            "\n",
            "       Dayofweek  Month  \n",
            "0              0     12  \n",
            "1              0     12  \n",
            "2              0     12  \n",
            "3              0     12  \n",
            "4              0     12  \n",
            "...          ...    ...  \n",
            "35827          0     12  \n",
            "35828          0     12  \n",
            "35829          0     12  \n",
            "35830          0     12  \n",
            "35831          0     12  \n",
            "\n",
            "[35832 rows x 8 columns]\n",
            "Media calculada: Timestamp       1.521245e+09\n",
            "Conductivity    5.020394e+02\n",
            "NO3             4.376709e-01\n",
            "Q               4.777473e+00\n",
            "Temp            2.381240e+01\n",
            "Turbidity       1.387364e+01\n",
            "Dayofweek       2.997991e+00\n",
            "Month           6.448091e+00\n",
            "dtype: float64\n",
            "Desviación estandar calculada: Timestamp       3.723770e+07\n",
            "Conductivity    1.584701e+02\n",
            "NO3             1.909779e-01\n",
            "Q               1.488979e+01\n",
            "Temp            2.677550e+00\n",
            "Turbidity       1.925891e+01\n",
            "Dayofweek       1.999497e+00\n",
            "Month           3.448912e+00\n",
            "dtype: float64\n",
            "       Timestamp  Conductivity  NO3    Q          Temp     Turbidity  \\\n",
            "0      -1.083547 -1.012138e-01  0.0  0.0  1.956118e+00 -4.244084e-01   \n",
            "1      -1.083547 -7.174024e-16  0.0  0.0  2.653705e-15  9.223559e-17   \n",
            "2      -1.083547 -1.075241e-01  0.0  0.0  1.698420e+00 -3.205603e-01   \n",
            "3      -1.083547 -1.075241e-01  0.0  0.0  1.593847e+00 -5.801804e-01   \n",
            "4      -1.083547 -7.174024e-16  0.0  0.0  2.653705e-15  9.223559e-17   \n",
            "...          ...           ...  ...  ...           ...           ...   \n",
            "35827  -1.083547 -7.174024e-16  0.0  0.0  2.653705e-15  9.223559e-17   \n",
            "35828  -1.083547 -7.174024e-16  0.0  0.0  2.653705e-15  9.223559e-17   \n",
            "35829  -1.083547 -7.174024e-16  0.0  0.0  2.653705e-15  9.223559e-17   \n",
            "35830  -1.083547 -7.174024e-16  0.0  0.0  2.653705e-15  9.223559e-17   \n",
            "35831  -1.083547 -7.174024e-16  0.0  0.0  2.653705e-15  9.223559e-17   \n",
            "\n",
            "       Dayofweek     Month  \n",
            "0      -1.499373  1.609757  \n",
            "1      -1.499373  1.609757  \n",
            "2      -1.499373  1.609757  \n",
            "3      -1.499373  1.609757  \n",
            "4      -1.499373  1.609757  \n",
            "...          ...       ...  \n",
            "35827  -1.499373  1.609757  \n",
            "35828  -1.499373  1.609757  \n",
            "35829  -1.499373  1.609757  \n",
            "35830  -1.499373  1.609757  \n",
            "35831  -1.499373  1.609757  \n",
            "\n",
            "[35832 rows x 8 columns]\n"
          ]
        }
      ]
    },
    {
      "cell_type": "code",
      "source": [
        "# Añade el termino de interseccion a X\n",
        "# (Columna de unos para X0)\n",
        "X = np.concatenate([np.ones((m, 1)), X_norm], axis=1)"
      ],
      "metadata": {
        "id": "eNCJz8CAP_Cq"
      },
      "execution_count": 21,
      "outputs": []
    },
    {
      "cell_type": "code",
      "source": [
        "print(X)"
      ],
      "metadata": {
        "colab": {
          "base_uri": "https://localhost:8080/"
        },
        "id": "DyOyg4gwQFT7",
        "outputId": "534806e0-ac76-4e18-bdba-1b1b6ce4748c"
      },
      "execution_count": 22,
      "outputs": [
        {
          "output_type": "stream",
          "name": "stdout",
          "text": [
            "[[ 1.00000000e+00 -1.08354710e+00 -1.01213782e-01 ... -4.24408388e-01\n",
            "  -1.49937272e+00  1.60975657e+00]\n",
            " [ 1.00000000e+00 -1.08354710e+00 -7.17402443e-16 ...  9.22355876e-17\n",
            "  -1.49937272e+00  1.60975657e+00]\n",
            " [ 1.00000000e+00 -1.08354710e+00 -1.07524121e-01 ... -3.20560349e-01\n",
            "  -1.49937272e+00  1.60975657e+00]\n",
            " ...\n",
            " [ 1.00000000e+00 -1.08354710e+00 -7.17402443e-16 ...  9.22355876e-17\n",
            "  -1.49937272e+00  1.60975657e+00]\n",
            " [ 1.00000000e+00 -1.08354710e+00 -7.17402443e-16 ...  9.22355876e-17\n",
            "  -1.49937272e+00  1.60975657e+00]\n",
            " [ 1.00000000e+00 -1.08354710e+00 -7.17402443e-16 ...  9.22355876e-17\n",
            "  -1.49937272e+00  1.60975657e+00]]\n"
          ]
        }
      ]
    },
    {
      "cell_type": "code",
      "source": [
        "def calcularCosto(X, y, theta,lambda_):\n",
        "  m = y.size\n",
        "  J = 0\n",
        "  h = np.dot(X, theta)\n",
        "  # print(h)\n",
        "\n",
        "  #Sin REGULARIZACION\n",
        "  #J = (1/(2 * m)) * np.sum(np.square(np.dot(X, theta) - y))\n",
        "\n",
        "  #CON REGULARIZACION\n",
        "  J = (1/(2 * m)) * np.sum(np.square(np.dot(X, theta) - y))+ (lambda_ / (2 * m)) * np.sum(np.square(theta[1:]))\n",
        "  return J\n"
      ],
      "metadata": {
        "id": "5NzaB15ZQV6Z"
      },
      "execution_count": 23,
      "outputs": []
    },
    {
      "cell_type": "code",
      "source": [
        "# implementación del algoritmo de descenso de gradiente\n",
        "def gradientDescentMulti(X, y, theta, alpha, num_iters, lambda_):\n",
        "\n",
        "    # Inicializa algunos valores\n",
        "    m = y.shape[0] # numero de ejemplos de entrenamiento\n",
        "    # realiza una copia de theta, el cual será acutalizada por el descenso por el gradiente\n",
        "    theta = theta.copy()\n",
        "    J_history = []\n",
        "\n",
        "    for i in range(num_iters):\n",
        "        #Sin regularizacion\n",
        "        theta = theta - (alpha / m) * (np.dot(X, theta) - y).dot(X)\n",
        "        #Con regularizacion\n",
        "        #theta[1:] += (lambda_ / m) * theta[1:]\n",
        "\n",
        "        J_history.append(calcularCosto(X, y, theta, lambda_))\n",
        "\n",
        "    return theta, J_history"
      ],
      "metadata": {
        "id": "rWRSABV3Q9LD"
      },
      "execution_count": 29,
      "outputs": []
    },
    {
      "cell_type": "code",
      "source": [
        "# Elegir algun valor para alpha (probar varias alternativas)\n",
        "alpha = 0.001 # si es grande se resta más a los thetas, si es menor alfa va cambiando poco a poco\n",
        "#se necesitan muchas iteraciones, si es grande el alfa salta mucho y no llega facilmente\n",
        "# mejores alfas = 0.1, 0.01, 0.001, 0.0001, 0.0005\n",
        "num_iters = 4000\n",
        "# inicializa theta y ejecuta el descenso por el gradiente\n",
        "theta = np.zeros(9)\n",
        "lambda_ = 0.1\n",
        "theta, J_history = gradientDescentMulti(X, y, theta, alpha, num_iters, lambda_)\n",
        "\n",
        "# Grafica la convergencia del costo\n",
        "pyplot.plot(np.arange(len(J_history)), J_history, lw=2)\n",
        "pyplot.xlabel('Numero de iteraciones')\n",
        "pyplot.ylabel('Nivel')\n",
        "\n",
        "# Muestra los resultados del descenso por el gradiente\n",
        "print('theta calculado por el descenso por el gradiente: {:s}'.format(str(theta)))\n",
        "\n",
        "# Estimar el nivel con distintas caracteristicas\n",
        "X_array = [1, 480, 1, 1, 27.10, 7.0, 0.48, 12, 4]\n",
        "X_array[1:9] = (X_array[1:13] - mu) / sigma\n",
        "level = np.dot(X_array, theta)   # Se debe cambiar esto\n",
        "\n",
        "print('El nivel predecido es (usando el descenso por el gradiente): {:.4f}'.format(level))"
      ],
      "metadata": {
        "colab": {
          "base_uri": "https://localhost:8080/",
          "height": 501
        },
        "id": "vo_khyX0aLls",
        "outputId": "a36338ec-c4cf-44e2-e19e-33ad6203374c"
      },
      "execution_count": 30,
      "outputs": [
        {
          "output_type": "stream",
          "name": "stdout",
          "text": [
            "theta calculado por el descenso por el gradiente: [ 0.71537533  0.00234552 -0.07767502  0.01274515  0.31070382 -0.04608345\n",
            "  0.23425388 -0.00609362 -0.0801392 ]\n",
            "El nivel predecido es (usando el descenso por el gradiente): 1.5244\n"
          ]
        },
        {
          "output_type": "display_data",
          "data": {
            "text/plain": [
              "<Figure size 640x480 with 1 Axes>"
            ],
            "image/png": "[encoded data removed]"
          },
          "metadata": {}
        }
      ]
    },
    {
      "cell_type": "markdown",
      "source": [
        "Proceso: usando la Ecuacion de la normal\n"
      ],
      "metadata": {
        "id": "zk7TOvJpUrtS"
      }
    },
    {
      "cell_type": "code",
      "source": [
        "# importante que para usar m>n, evitar datos redundantes, no se normaliza\n",
        "def normalEqn(X, y):\n",
        "\n",
        "    theta = np.zeros(X.shape[1])\n",
        "\n",
        "    theta = np.dot(np.dot(np.linalg.inv(np.dot(X.T,X)),X.T),y)\n",
        "\n",
        "    return theta"
      ],
      "metadata": {
        "id": "zJtP8V2OU0XC"
      },
      "execution_count": 31,
      "outputs": []
    },
    {
      "cell_type": "code",
      "source": [
        "# Calcula los parametros con la ecuación de la normal\n",
        "theta = normalEqn(X, y);\n",
        "\n",
        "# Muestra los resultados optenidos a partir de la aplicación de la ecuación de la normal\n",
        "print('Theta calculado a partir de la ecuación de la normal: {:s}'.format(str(theta)));\n",
        "\n",
        "# Estimar el precio para una casa de superficie de 1650 sq-ft y tres dormitorios\n",
        "X_array = [1, 487, 1, 1, 28.10, 7.0, 0.48, 12, 4]\n",
        "level = np.dot(X_array, theta)\n",
        "\n",
        "print('El nivel de agua predecido (usando la ecuación de la normal): N.deA: {: .0f}'.format(level))"
      ],
      "metadata": {
        "colab": {
          "base_uri": "https://localhost:8080/"
        },
        "id": "XHyeqQUGXF7M",
        "outputId": "e2cc0923-3ba1-43a4-db39-65b5f28053d6"
      },
      "execution_count": 32,
      "outputs": [
        {
          "output_type": "stream",
          "name": "stdout",
          "text": [
            "Theta calculado a partir de la ecuación de la normal: [ 0.72869516  0.00271713 -0.07115308  0.01232711  0.31560529 -0.04551237\n",
            "  0.23737977 -0.00581806 -0.08070132]\n",
            "El nivel de agua predecido (usando la ecuación de la normal): N.deA:  10\n"
          ]
        }
      ]
    }
  ]
}